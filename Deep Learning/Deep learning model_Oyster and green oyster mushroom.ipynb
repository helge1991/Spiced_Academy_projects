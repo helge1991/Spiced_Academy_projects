{
 "cells": [
  {
   "attachments": {},
   "cell_type": "markdown",
   "metadata": {},
   "source": [
    "# Own model on Oyster and green oyster mushroom (Convolutional Neural Networks)"
   ]
  },
  {
   "cell_type": "code",
   "execution_count": 41,
   "metadata": {},
   "outputs": [],
   "source": [
    "import os\n",
    "import numpy as np\n",
    "from matplotlib import pyplot as plt\n",
    "import pandas as pd\n",
    "\n",
    "from tensorflow.keras.preprocessing.image import load_img, img_to_array\n",
    "from tensorflow.keras import backend as K\n",
    "import tensorflow.keras as tk\n",
    "from tensorflow.keras.datasets import mnist, fashion_mnist,cifar10\n",
    "from tensorflow.keras.models import Sequential, Model\n",
    "from tensorflow.keras.layers import Conv2D, Dense, MaxPooling2D, Flatten, BatchNormalization,Dropout\n",
    "from tensorflow.keras.utils import to_categorical\n",
    "from tensorflow.keras.callbacks import EarlyStopping"
   ]
  },
  {
   "cell_type": "code",
   "execution_count": 42,
   "metadata": {},
   "outputs": [],
   "source": [
    "X = []\n",
    "y = []\n",
    "classes = ['oyster', 'green_oyster'] # define the classes\n",
    "base_path = r'C:\\Users\\helge\\spiced_projects_working folder\\week9\\imageclassifier-main\\imageclassifier-main\\week9_data\\\\'\n"
   ]
  },
  {
   "cell_type": "code",
   "execution_count": 43,
   "metadata": {},
   "outputs": [],
   "source": [
    "for i, target in enumerate(classes):\n",
    "    files = os.listdir(base_path+target)\n",
    "    for file in files:\n",
    "        # load the image\n",
    "        img = load_img(base_path+target+'/'+file, target_size=(28, 28))\n",
    "        # convert it to an array\n",
    "        img_array = img_to_array(img)\n",
    "        # append the array to X\n",
    "        X.append(img_array)\n",
    "        # append the numeric target to y\n",
    "        y.append(i)\n",
    "\n",
    "X = np.array(X)\n",
    "y = np.array(y)\n",
    "\n",
    "# shuffle the data\n",
    "shuffler = np.random.permutation(len(X))\n",
    "X = X[shuffler]\n",
    "y = y[shuffler]"
   ]
  },
  {
   "cell_type": "code",
   "execution_count": 44,
   "metadata": {},
   "outputs": [
    {
     "data": {
      "text/plain": [
       "(923, 28, 28, 3)"
      ]
     },
     "execution_count": 44,
     "metadata": {},
     "output_type": "execute_result"
    }
   ],
   "source": [
    "X.shape"
   ]
  },
  {
   "cell_type": "code",
   "execution_count": 45,
   "metadata": {},
   "outputs": [
    {
     "data": {
      "image/png": "[encoded data removed]",
      "text/plain": [
       "<PIL.Image.Image image mode=RGB size=28x28>"
      ]
     },
     "execution_count": 45,
     "metadata": {},
     "output_type": "execute_result"
    }
   ],
   "source": [
    "img"
   ]
  },
  {
   "cell_type": "code",
   "execution_count": 46,
   "metadata": {},
   "outputs": [
    {
     "data": {
      "text/plain": [
       "(28, 28)"
      ]
     },
     "execution_count": 46,
     "metadata": {},
     "output_type": "execute_result"
    }
   ],
   "source": [
    "img.size"
   ]
  },
  {
   "cell_type": "code",
   "execution_count": 47,
   "metadata": {},
   "outputs": [
    {
     "data": {
      "text/plain": [
       "PIL.Image.Image"
      ]
     },
     "execution_count": 47,
     "metadata": {},
     "output_type": "execute_result"
    }
   ],
   "source": [
    "type(img)"
   ]
  },
  {
   "cell_type": "markdown",
   "metadata": {},
   "source": [
    "#### LeNet-5 in Keras"
   ]
  },
  {
   "attachments": {},
   "cell_type": "markdown",
   "metadata": {},
   "source": [
    "Hint: Adjust the input_shape from 224 to 28, if you have issues with CPU or use Google Collap/ Kaggle"
   ]
  },
  {
   "cell_type": "code",
   "execution_count": 48,
   "metadata": {},
   "outputs": [],
   "source": [
    "### Implement LeNet-5 architecture \n",
    "K.clear_session()\n",
    "model = Sequential([\n",
    "    \n",
    "    ### Convolutional layers\n",
    "    Conv2D(filters = 6 , kernel_size = (5,5), \n",
    "           strides = (1,1), padding = \"valid\" , \n",
    "           activation = tk.activations.relu , input_shape = (28,28,3), # use relu\n",
    "           kernel_initializer=tk.initializers.GlorotNormal(seed=34)),  # how to initialise the model parameters\n",
    "           \n",
    "    \n",
    "    MaxPooling2D(pool_size = (2,2), strides=(2,2), padding = \"valid\"),\n",
    "    \n",
    "    Conv2D(filters= 16, kernel_size = (5,5), strides = (1,1), padding = \"valid\" , \n",
    "           activation = tk.activations.relu) ,  # use relu\n",
    "            \n",
    "    \n",
    "    MaxPooling2D(pool_size = (2,2), strides=(2,2), padding = \"valid\"),\n",
    "    \n",
    "    ### Fully connected layers for classification\n",
    "    \n",
    "    Flatten(),\n",
    "    \n",
    "    Dense(units=120, activation= tk.activations.relu),  # use relu\n",
    "    \n",
    "    Dense(units=84, activation=tk.activations.relu), # use relu\n",
    "          \n",
    "    \n",
    "    \n",
    "    # Output layer\n",
    "    # think of how many categories we have to predict \n",
    "    Dense(units=10, activation=tk.activations.softmax)\n",
    "])"
   ]
  },
  {
   "cell_type": "code",
   "execution_count": 49,
   "metadata": {},
   "outputs": [
    {
     "name": "stdout",
     "output_type": "stream",
     "text": [
      "Model: \"sequential\"\n",
      "_________________________________________________________________\n",
      " Layer (type)                Output Shape              Param #   \n",
      "=================================================================\n",
      " conv2d (Conv2D)             (None, 24, 24, 6)         456       \n",
      "                                                                 \n",
      " max_pooling2d (MaxPooling2D  (None, 12, 12, 6)        0         \n",
      " )                                                               \n",
      "                                                                 \n",
      " conv2d_1 (Conv2D)           (None, 8, 8, 16)          2416      \n",
      "                                                                 \n",
      " max_pooling2d_1 (MaxPooling  (None, 4, 4, 16)         0         \n",
      " 2D)                                                             \n",
      "                                                                 \n",
      " flatten (Flatten)           (None, 256)               0         \n",
      "                                                                 \n",
      " dense (Dense)               (None, 120)               30840     \n",
      "                                                                 \n",
      " dense_1 (Dense)             (None, 84)                10164     \n",
      "                                                                 \n",
      " dense_2 (Dense)             (None, 10)                850       \n",
      "                                                                 \n",
      "=================================================================\n",
      "Total params: 44,726\n",
      "Trainable params: 44,726\n",
      "Non-trainable params: 0\n",
      "_________________________________________________________________\n"
     ]
    }
   ],
   "source": [
    "# Check the summary:\n",
    "model.summary()"
   ]
  },
  {
   "cell_type": "code",
   "execution_count": 50,
   "metadata": {},
   "outputs": [],
   "source": [
    "# Compile\n",
    "model.compile(optimizer=tk.optimizers.Adam(), # Adam\n",
    "              loss='sparse_categorical_crossentropy' , # multiclass: 'categorical_crossentropy' \n",
    "              metrics=['accuracy'])"
   ]
  },
  {
   "cell_type": "code",
   "execution_count": 51,
   "metadata": {},
   "outputs": [
    {
     "name": "stdout",
     "output_type": "stream",
     "text": [
      "Epoch 1/20\n",
      "13/13 [==============================] - 2s 61ms/step - loss: 10.5048 - accuracy: 0.5325 - val_loss: 0.7061 - val_accuracy: 0.7946\n",
      "Epoch 2/20\n",
      "13/13 [==============================] - 1s 44ms/step - loss: 1.0116 - accuracy: 0.7249 - val_loss: 0.7632 - val_accuracy: 0.7297\n",
      "Epoch 3/20\n",
      "13/13 [==============================] - 1s 45ms/step - loss: 0.4469 - accuracy: 0.8293 - val_loss: 0.4272 - val_accuracy: 0.8054\n",
      "Epoch 4/20\n",
      "13/13 [==============================] - 1s 44ms/step - loss: 0.2664 - accuracy: 0.8902 - val_loss: 0.3555 - val_accuracy: 0.8541\n",
      "Epoch 5/20\n",
      "13/13 [==============================] - 1s 45ms/step - loss: 0.1662 - accuracy: 0.9431 - val_loss: 0.2528 - val_accuracy: 0.8865\n",
      "Epoch 6/20\n",
      "13/13 [==============================] - 1s 50ms/step - loss: 0.1102 - accuracy: 0.9648 - val_loss: 0.2393 - val_accuracy: 0.9189\n",
      "Epoch 7/20\n",
      "13/13 [==============================] - 1s 44ms/step - loss: 0.0684 - accuracy: 0.9837 - val_loss: 0.2060 - val_accuracy: 0.9459\n",
      "Epoch 8/20\n",
      "13/13 [==============================] - 1s 46ms/step - loss: 0.0475 - accuracy: 0.9919 - val_loss: 0.2232 - val_accuracy: 0.9351\n",
      "Epoch 9/20\n",
      "13/13 [==============================] - 1s 48ms/step - loss: 0.0285 - accuracy: 0.9986 - val_loss: 0.2071 - val_accuracy: 0.9459\n",
      "Epoch 10/20\n",
      "13/13 [==============================] - 1s 52ms/step - loss: 0.0199 - accuracy: 1.0000 - val_loss: 0.1946 - val_accuracy: 0.9568\n",
      "Epoch 11/20\n",
      "13/13 [==============================] - 1s 53ms/step - loss: 0.0132 - accuracy: 1.0000 - val_loss: 0.2730 - val_accuracy: 0.9351\n",
      "Epoch 12/20\n",
      "13/13 [==============================] - 1s 47ms/step - loss: 0.0105 - accuracy: 1.0000 - val_loss: 0.2424 - val_accuracy: 0.9514\n",
      "Epoch 13/20\n",
      "13/13 [==============================] - 1s 49ms/step - loss: 0.0075 - accuracy: 1.0000 - val_loss: 0.2422 - val_accuracy: 0.9459\n",
      "Epoch 14/20\n",
      "13/13 [==============================] - 1s 45ms/step - loss: 0.0054 - accuracy: 1.0000 - val_loss: 0.2465 - val_accuracy: 0.9459\n",
      "Epoch 15/20\n",
      "13/13 [==============================] - 0s 24ms/step - loss: 0.0042 - accuracy: 1.0000 - val_loss: 0.2806 - val_accuracy: 0.9459\n",
      "Epoch 16/20\n",
      "13/13 [==============================] - 0s 39ms/step - loss: 0.0034 - accuracy: 1.0000 - val_loss: 0.2481 - val_accuracy: 0.9568\n",
      "Epoch 17/20\n",
      "13/13 [==============================] - 1s 50ms/step - loss: 0.0027 - accuracy: 1.0000 - val_loss: 0.2868 - val_accuracy: 0.9459\n",
      "Epoch 18/20\n",
      "13/13 [==============================] - 1s 53ms/step - loss: 0.0022 - accuracy: 1.0000 - val_loss: 0.2720 - val_accuracy: 0.9459\n",
      "Epoch 19/20\n",
      "13/13 [==============================] - 1s 53ms/step - loss: 0.0018 - accuracy: 1.0000 - val_loss: 0.2793 - val_accuracy: 0.9459\n",
      "Epoch 20/20\n",
      "13/13 [==============================] - 1s 47ms/step - loss: 0.0016 - accuracy: 1.0000 - val_loss: 0.2814 - val_accuracy: 0.9514\n"
     ]
    }
   ],
   "source": [
    "# Train the model\n",
    "history = model.fit(X, y, epochs=20,\n",
    "                    batch_size=60,\n",
    "                    validation_split = 0.2,\n",
    "                   )"
   ]
  },
  {
   "cell_type": "markdown",
   "metadata": {},
   "source": [
    "### Examine the model"
   ]
  },
  {
   "cell_type": "code",
   "execution_count": 52,
   "metadata": {},
   "outputs": [
    {
     "data": {
      "text/plain": [
       "{'loss': [10.504815101623535,\n",
       "  1.0116016864776611,\n",
       "  0.44692227244377136,\n",
       "  0.26642411947250366,\n",
       "  0.16620540618896484,\n",
       "  0.11015202105045319,\n",
       "  0.06837087869644165,\n",
       "  0.04754675552248955,\n",
       "  0.028509948402643204,\n",
       "  0.01991412416100502,\n",
       "  0.0132296746596694,\n",
       "  0.010484479367733002,\n",
       "  0.007525422144681215,\n",
       "  0.0053614904172718525,\n",
       "  0.004170716740190983,\n",
       "  0.003385005984455347,\n",
       "  0.002659038407728076,\n",
       "  0.002223293762654066,\n",
       "  0.0018426066963002086,\n",
       "  0.0015682326629757881],\n",
       " 'accuracy': [0.5325203537940979,\n",
       "  0.7249322533607483,\n",
       "  0.8292682766914368,\n",
       "  0.8902438879013062,\n",
       "  0.9430894255638123,\n",
       "  0.9647696614265442,\n",
       "  0.9837398529052734,\n",
       "  0.9918699264526367,\n",
       "  0.998645007610321,\n",
       "  1.0,\n",
       "  1.0,\n",
       "  1.0,\n",
       "  1.0,\n",
       "  1.0,\n",
       "  1.0,\n",
       "  1.0,\n",
       "  1.0,\n",
       "  1.0,\n",
       "  1.0,\n",
       "  1.0],\n",
       " 'val_loss': [0.7061172723770142,\n",
       "  0.7631865739822388,\n",
       "  0.42715132236480713,\n",
       "  0.35553959012031555,\n",
       "  0.25281187891960144,\n",
       "  0.23926803469657898,\n",
       "  0.20601020753383636,\n",
       "  0.22316080331802368,\n",
       "  0.2071470320224762,\n",
       "  0.1946054846048355,\n",
       "  0.2729910910129547,\n",
       "  0.24244900047779083,\n",
       "  0.24216847121715546,\n",
       "  0.24652455747127533,\n",
       "  0.28062567114830017,\n",
       "  0.24806207418441772,\n",
       "  0.2867824137210846,\n",
       "  0.2720452845096588,\n",
       "  0.27930325269699097,\n",
       "  0.2814396321773529],\n",
       " 'val_accuracy': [0.7945945858955383,\n",
       "  0.7297297120094299,\n",
       "  0.8054053783416748,\n",
       "  0.8540540337562561,\n",
       "  0.8864864706993103,\n",
       "  0.9189189076423645,\n",
       "  0.9459459185600281,\n",
       "  0.9351351261138916,\n",
       "  0.9459459185600281,\n",
       "  0.9567567706108093,\n",
       "  0.9351351261138916,\n",
       "  0.9513513445854187,\n",
       "  0.9459459185600281,\n",
       "  0.9459459185600281,\n",
       "  0.9459459185600281,\n",
       "  0.9567567706108093,\n",
       "  0.9459459185600281,\n",
       "  0.9459459185600281,\n",
       "  0.9459459185600281,\n",
       "  0.9513513445854187]}"
      ]
     },
     "execution_count": 52,
     "metadata": {},
     "output_type": "execute_result"
    }
   ],
   "source": [
    "history.history"
   ]
  },
  {
   "cell_type": "code",
   "execution_count": 53,
   "metadata": {},
   "outputs": [
    {
     "data": {
      "text/plain": [
       "Text(0.5, 0, 'epochs')"
      ]
     },
     "execution_count": 53,
     "metadata": {},
     "output_type": "execute_result"
    },
    {
     "data": {
      "image/png": "[encoded data removed]",
      "text/plain": [
       "<Figure size 640x480 with 1 Axes>"
      ]
     },
     "metadata": {},
     "output_type": "display_data"
    }
   ],
   "source": [
    "# Plot loss and accuracy curves\n",
    "pd.DataFrame(data=history.history).plot()\n",
    "plt.grid(True)\n",
    "plt.xlabel('epochs')"
   ]
  }
 ],
 "metadata": {
  "kernelspec": {
   "display_name": "base",
   "language": "python",
   "name": "python3"
  },
  "language_info": {
   "codemirror_mode": {
    "name": "ipython",
    "version": 3
   },
   "file_extension": ".py",
   "mimetype": "text/x-python",
   "name": "python",
   "nbconvert_exporter": "python",
   "pygments_lexer": "ipython3",
   "version": "3.9.16"
  },
  "vscode": {
   "interpreter": {
    "hash": "6705a6e538b370740f21ec7ffd66950b4b5f48bbc7661dcef0aae75a11c54bfd"
   }
  }
 },
 "nbformat": 4,
 "nbformat_minor": 4
}
