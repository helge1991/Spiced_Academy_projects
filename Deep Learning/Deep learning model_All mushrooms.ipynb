{
 "cells": [
  {
   "attachments": {},
   "cell_type": "markdown",
   "metadata": {},
   "source": [
    "# Own model on Oyster and green oyster mushroom (Convolutional Neural Networks)"
   ]
  },
  {
   "cell_type": "code",
   "execution_count": 1,
   "metadata": {},
   "outputs": [],
   "source": [
    "import os\n",
    "import numpy as np\n",
    "from matplotlib import pyplot as plt\n",
    "import pandas as pd\n",
    "\n",
    "from tensorflow.keras.preprocessing.image import load_img, img_to_array\n",
    "from tensorflow.keras import backend as K\n",
    "import tensorflow.keras as tk\n",
    "from tensorflow.keras.datasets import mnist, fashion_mnist,cifar10\n",
    "from tensorflow.keras.models import Sequential, Model\n",
    "from tensorflow.keras.layers import Conv2D, Dense, MaxPooling2D, Flatten, BatchNormalization,Dropout\n",
    "from tensorflow.keras.utils import to_categorical\n",
    "from tensorflow.keras.callbacks import EarlyStopping"
   ]
  },
  {
   "cell_type": "code",
   "execution_count": 2,
   "metadata": {},
   "outputs": [],
   "source": [
    "X = []\n",
    "y = []\n",
    "classes = ['oyster_all', 'green_oyster', 'common_porecrust', 'many_colored_polypore', 'hairy_bracket' ] # define the classes\n",
    "base_path = r'C:\\Users\\helge\\spiced_projects_working folder\\week9\\imageclassifier-main\\imageclassifier-main\\week9_data\\\\'\n"
   ]
  },
  {
   "cell_type": "code",
   "execution_count": 3,
   "metadata": {},
   "outputs": [],
   "source": [
    "for i, target in enumerate(classes):\n",
    "    files = os.listdir(base_path+target)\n",
    "    for file in files:\n",
    "        # load the image\n",
    "        img = load_img(base_path+target+'/'+file, target_size=(28, 28))\n",
    "        # convert it to an array\n",
    "        img_array = img_to_array(img)\n",
    "        # append the array to X\n",
    "        X.append(img_array)\n",
    "        # append the numeric target to y\n",
    "        y.append(i)\n",
    "\n",
    "X = np.array(X)\n",
    "y = np.array(y)\n",
    "\n",
    "# shuffle the data\n",
    "shuffler = np.random.permutation(len(X))\n",
    "X = X[shuffler]\n",
    "y = y[shuffler]"
   ]
  },
  {
   "cell_type": "code",
   "execution_count": 4,
   "metadata": {},
   "outputs": [
    {
     "data": {
      "text/plain": [
       "(2872, 28, 28, 3)"
      ]
     },
     "execution_count": 4,
     "metadata": {},
     "output_type": "execute_result"
    }
   ],
   "source": [
    "X.shape"
   ]
  },
  {
   "cell_type": "code",
   "execution_count": 5,
   "metadata": {},
   "outputs": [
    {
     "data": {
      "image/png": "[encoded data removed]",
      "text/plain": [
       "<PIL.Image.Image image mode=RGB size=28x28>"
      ]
     },
     "execution_count": 5,
     "metadata": {},
     "output_type": "execute_result"
    }
   ],
   "source": [
    "img"
   ]
  },
  {
   "cell_type": "code",
   "execution_count": 6,
   "metadata": {},
   "outputs": [
    {
     "data": {
      "text/plain": [
       "(28, 28)"
      ]
     },
     "execution_count": 6,
     "metadata": {},
     "output_type": "execute_result"
    }
   ],
   "source": [
    "img.size"
   ]
  },
  {
   "cell_type": "code",
   "execution_count": 7,
   "metadata": {},
   "outputs": [
    {
     "data": {
      "text/plain": [
       "PIL.Image.Image"
      ]
     },
     "execution_count": 7,
     "metadata": {},
     "output_type": "execute_result"
    }
   ],
   "source": [
    "type(img)"
   ]
  },
  {
   "cell_type": "markdown",
   "metadata": {},
   "source": [
    "#### LeNet-5 in Keras"
   ]
  },
  {
   "attachments": {},
   "cell_type": "markdown",
   "metadata": {},
   "source": [
    "Hint: Adjust the input_shape from 224 to 28, if you have issues with CPU or use Google Collap/ Kaggle"
   ]
  },
  {
   "cell_type": "code",
   "execution_count": 8,
   "metadata": {},
   "outputs": [],
   "source": [
    "### Implement LeNet-5 architecture \n",
    "K.clear_session()\n",
    "model = Sequential([\n",
    "    \n",
    "    ### Convolutional layers\n",
    "    Conv2D(filters = 6 , kernel_size = (5,5), \n",
    "           strides = (1,1), padding = \"valid\" , \n",
    "           activation = tk.activations.relu , input_shape = (28,28,3), # use relu\n",
    "           kernel_initializer=tk.initializers.GlorotNormal(seed=34)),  # how to initialise the model parameters\n",
    "           \n",
    "    \n",
    "    MaxPooling2D(pool_size = (2,2), strides=(2,2), padding = \"valid\"),\n",
    "    \n",
    "    Conv2D(filters= 16, kernel_size = (5,5), strides = (1,1), padding = \"valid\" , \n",
    "           activation = tk.activations.relu) ,  # use relu\n",
    "            \n",
    "    \n",
    "    MaxPooling2D(pool_size = (2,2), strides=(2,2), padding = \"valid\"),\n",
    "    \n",
    "    ### Fully connected layers for classification\n",
    "    \n",
    "    Flatten(),\n",
    "    \n",
    "    Dense(units=120, activation= tk.activations.relu),  # use relu\n",
    "    \n",
    "    Dense(units=84, activation=tk.activations.relu), # use relu\n",
    "          \n",
    "    \n",
    "    \n",
    "    # Output layer\n",
    "    # think of how many categories we have to predict \n",
    "    Dense(units=10, activation=tk.activations.softmax)\n",
    "])"
   ]
  },
  {
   "cell_type": "code",
   "execution_count": 9,
   "metadata": {},
   "outputs": [
    {
     "name": "stdout",
     "output_type": "stream",
     "text": [
      "Model: \"sequential\"\n",
      "_________________________________________________________________\n",
      " Layer (type)                Output Shape              Param #   \n",
      "=================================================================\n",
      " conv2d (Conv2D)             (None, 24, 24, 6)         456       \n",
      "                                                                 \n",
      " max_pooling2d (MaxPooling2D  (None, 12, 12, 6)        0         \n",
      " )                                                               \n",
      "                                                                 \n",
      " conv2d_1 (Conv2D)           (None, 8, 8, 16)          2416      \n",
      "                                                                 \n",
      " max_pooling2d_1 (MaxPooling  (None, 4, 4, 16)         0         \n",
      " 2D)                                                             \n",
      "                                                                 \n",
      " flatten (Flatten)           (None, 256)               0         \n",
      "                                                                 \n",
      " dense (Dense)               (None, 120)               30840     \n",
      "                                                                 \n",
      " dense_1 (Dense)             (None, 84)                10164     \n",
      "                                                                 \n",
      " dense_2 (Dense)             (None, 10)                850       \n",
      "                                                                 \n",
      "=================================================================\n",
      "Total params: 44,726\n",
      "Trainable params: 44,726\n",
      "Non-trainable params: 0\n",
      "_________________________________________________________________\n"
     ]
    }
   ],
   "source": [
    "# Check the summary:\n",
    "model.summary()"
   ]
  },
  {
   "cell_type": "code",
   "execution_count": 10,
   "metadata": {},
   "outputs": [],
   "source": [
    "# Compile\n",
    "model.compile(optimizer=tk.optimizers.Adam(), # Adam\n",
    "              loss='sparse_categorical_crossentropy' , # multiclass: 'categorical_crossentropy' \n",
    "              metrics=['accuracy'])"
   ]
  },
  {
   "cell_type": "code",
   "execution_count": 11,
   "metadata": {},
   "outputs": [
    {
     "name": "stdout",
     "output_type": "stream",
     "text": [
      "Epoch 1/20\n",
      "39/39 [==============================] - 3s 28ms/step - loss: 2.8010 - accuracy: 0.4806 - val_loss: 1.1115 - val_accuracy: 0.5478\n",
      "Epoch 2/20\n",
      "39/39 [==============================] - 0s 10ms/step - loss: 0.9357 - accuracy: 0.6417 - val_loss: 0.8107 - val_accuracy: 0.6904\n",
      "Epoch 3/20\n",
      "39/39 [==============================] - 1s 30ms/step - loss: 0.6946 - accuracy: 0.7292 - val_loss: 0.6962 - val_accuracy: 0.7443\n",
      "Epoch 4/20\n",
      "39/39 [==============================] - 1s 24ms/step - loss: 0.5263 - accuracy: 0.7971 - val_loss: 0.5527 - val_accuracy: 0.8000\n",
      "Epoch 5/20\n",
      "39/39 [==============================] - 1s 21ms/step - loss: 0.4302 - accuracy: 0.8533 - val_loss: 0.5197 - val_accuracy: 0.7983\n",
      "Epoch 6/20\n",
      "39/39 [==============================] - 1s 28ms/step - loss: 0.3343 - accuracy: 0.8846 - val_loss: 0.4423 - val_accuracy: 0.8417\n",
      "Epoch 7/20\n",
      "39/39 [==============================] - 1s 27ms/step - loss: 0.2738 - accuracy: 0.8999 - val_loss: 0.4141 - val_accuracy: 0.8435\n",
      "Epoch 8/20\n",
      "39/39 [==============================] - 1s 30ms/step - loss: 0.2158 - accuracy: 0.9251 - val_loss: 0.4178 - val_accuracy: 0.8591\n",
      "Epoch 9/20\n",
      "39/39 [==============================] - 1s 24ms/step - loss: 0.1632 - accuracy: 0.9438 - val_loss: 0.3754 - val_accuracy: 0.8783\n",
      "Epoch 10/20\n",
      "39/39 [==============================] - 1s 24ms/step - loss: 0.1364 - accuracy: 0.9552 - val_loss: 0.3893 - val_accuracy: 0.8661\n",
      "Epoch 11/20\n",
      "39/39 [==============================] - 1s 27ms/step - loss: 0.0981 - accuracy: 0.9747 - val_loss: 0.3517 - val_accuracy: 0.8887\n",
      "Epoch 12/20\n",
      "39/39 [==============================] - 1s 34ms/step - loss: 0.0870 - accuracy: 0.9747 - val_loss: 0.3800 - val_accuracy: 0.8870\n",
      "Epoch 13/20\n",
      "39/39 [==============================] - 1s 24ms/step - loss: 0.0552 - accuracy: 0.9865 - val_loss: 0.3361 - val_accuracy: 0.9026\n",
      "Epoch 14/20\n",
      "39/39 [==============================] - 1s 23ms/step - loss: 0.0391 - accuracy: 0.9917 - val_loss: 0.3516 - val_accuracy: 0.8957\n",
      "Epoch 15/20\n",
      "39/39 [==============================] - 1s 29ms/step - loss: 0.0400 - accuracy: 0.9930 - val_loss: 0.3731 - val_accuracy: 0.8974\n",
      "Epoch 16/20\n",
      "39/39 [==============================] - 1s 27ms/step - loss: 0.0296 - accuracy: 0.9961 - val_loss: 0.3435 - val_accuracy: 0.8974\n",
      "Epoch 17/20\n",
      "39/39 [==============================] - 1s 22ms/step - loss: 0.0198 - accuracy: 0.9970 - val_loss: 0.3257 - val_accuracy: 0.9096\n",
      "Epoch 18/20\n",
      "39/39 [==============================] - 1s 35ms/step - loss: 0.0146 - accuracy: 0.9978 - val_loss: 0.3380 - val_accuracy: 0.9165\n",
      "Epoch 19/20\n",
      "39/39 [==============================] - 1s 26ms/step - loss: 0.0115 - accuracy: 0.9983 - val_loss: 0.3530 - val_accuracy: 0.9148\n",
      "Epoch 20/20\n",
      "39/39 [==============================] - 1s 24ms/step - loss: 0.0077 - accuracy: 0.9991 - val_loss: 0.3481 - val_accuracy: 0.9130\n"
     ]
    }
   ],
   "source": [
    "# Train the model\n",
    "history = model.fit(X, y, epochs=20,\n",
    "                    batch_size=60,\n",
    "                    validation_split = 0.2,\n",
    "                   )"
   ]
  },
  {
   "cell_type": "markdown",
   "metadata": {},
   "source": [
    "### Examine the model"
   ]
  },
  {
   "cell_type": "code",
   "execution_count": 12,
   "metadata": {},
   "outputs": [
    {
     "data": {
      "text/plain": [
       "{'loss': [2.800995111465454,\n",
       "  0.9356647729873657,\n",
       "  0.6946307420730591,\n",
       "  0.5262747406959534,\n",
       "  0.4301544725894928,\n",
       "  0.33433517813682556,\n",
       "  0.27384039759635925,\n",
       "  0.21582917869091034,\n",
       "  0.16316719353199005,\n",
       "  0.13637837767601013,\n",
       "  0.0981023982167244,\n",
       "  0.08701719343662262,\n",
       "  0.05524956062436104,\n",
       "  0.039146844297647476,\n",
       "  0.04003824666142464,\n",
       "  0.02964072860777378,\n",
       "  0.01983708143234253,\n",
       "  0.014554645866155624,\n",
       "  0.011515718884766102,\n",
       "  0.007699258159846067],\n",
       " 'accuracy': [0.4806269109249115,\n",
       "  0.6417065858840942,\n",
       "  0.7292119860649109,\n",
       "  0.7971267104148865,\n",
       "  0.8532869219779968,\n",
       "  0.8846321105957031,\n",
       "  0.8998693823814392,\n",
       "  0.9251196980476379,\n",
       "  0.9438397884368896,\n",
       "  0.9551588892936707,\n",
       "  0.9747496843338013,\n",
       "  0.9747496843338013,\n",
       "  0.9865041375160217,\n",
       "  0.9917283654212952,\n",
       "  0.9930344223976135,\n",
       "  0.9960818290710449,\n",
       "  0.9969525337219238,\n",
       "  0.9978232383728027,\n",
       "  0.9982585906982422,\n",
       "  0.9991292953491211],\n",
       " 'val_loss': [1.1114652156829834,\n",
       "  0.8106648325920105,\n",
       "  0.6961909532546997,\n",
       "  0.5526501536369324,\n",
       "  0.5196588635444641,\n",
       "  0.4423188269138336,\n",
       "  0.41413673758506775,\n",
       "  0.41780295968055725,\n",
       "  0.375442236661911,\n",
       "  0.3893142640590668,\n",
       "  0.35173192620277405,\n",
       "  0.3800060749053955,\n",
       "  0.33608055114746094,\n",
       "  0.3515850305557251,\n",
       "  0.37307998538017273,\n",
       "  0.34347352385520935,\n",
       "  0.325670450925827,\n",
       "  0.3380197584629059,\n",
       "  0.35297805070877075,\n",
       "  0.34806400537490845],\n",
       " 'val_accuracy': [0.5478261113166809,\n",
       "  0.6904347538948059,\n",
       "  0.7443478107452393,\n",
       "  0.800000011920929,\n",
       "  0.7982608675956726,\n",
       "  0.8417391180992126,\n",
       "  0.843478262424469,\n",
       "  0.8591304421424866,\n",
       "  0.8782608509063721,\n",
       "  0.8660869598388672,\n",
       "  0.8886956572532654,\n",
       "  0.886956512928009,\n",
       "  0.9026086926460266,\n",
       "  0.895652174949646,\n",
       "  0.8973913192749023,\n",
       "  0.8973913192749023,\n",
       "  0.9095652103424072,\n",
       "  0.9165217280387878,\n",
       "  0.9147825837135315,\n",
       "  0.9130434989929199]}"
      ]
     },
     "execution_count": 12,
     "metadata": {},
     "output_type": "execute_result"
    }
   ],
   "source": [
    "history.history"
   ]
  },
  {
   "cell_type": "code",
   "execution_count": 13,
   "metadata": {},
   "outputs": [
    {
     "data": {
      "text/plain": [
       "Text(0.5, 0, 'epochs')"
      ]
     },
     "execution_count": 13,
     "metadata": {},
     "output_type": "execute_result"
    },
    {
     "data": {
      "image/png": "[encoded data removed]",
      "text/plain": [
       "<Figure size 640x480 with 1 Axes>"
      ]
     },
     "metadata": {},
     "output_type": "display_data"
    }
   ],
   "source": [
    "# Plot loss and accuracy curves\n",
    "pd.DataFrame(data=history.history).plot()\n",
    "plt.grid(True)\n",
    "plt.xlabel('epochs')"
   ]
  },
  {
   "cell_type": "code",
   "execution_count": null,
   "metadata": {},
   "outputs": [],
   "source": []
  }
 ],
 "metadata": {
  "kernelspec": {
   "display_name": "base",
   "language": "python",
   "name": "python3"
  },
  "language_info": {
   "codemirror_mode": {
    "name": "ipython",
    "version": 3
   },
   "file_extension": ".py",
   "mimetype": "text/x-python",
   "name": "python",
   "nbconvert_exporter": "python",
   "pygments_lexer": "ipython3",
   "version": "3.9.16"
  },
  "vscode": {
   "interpreter": {
    "hash": "6705a6e538b370740f21ec7ffd66950b4b5f48bbc7661dcef0aae75a11c54bfd"
   }
  }
 },
 "nbformat": 4,
 "nbformat_minor": 4
}
