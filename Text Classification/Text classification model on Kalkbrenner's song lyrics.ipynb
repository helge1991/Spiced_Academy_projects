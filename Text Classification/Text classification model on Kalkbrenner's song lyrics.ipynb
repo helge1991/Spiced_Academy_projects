{
 "cells": [
  {
   "cell_type": "code",
   "execution_count": 1,
   "id": "c9cd4b4a",
   "metadata": {},
   "outputs": [],
   "source": [
    "import requests\n",
    "import time\n",
    "from bs4 import BeautifulSoup\n",
    "import pandas as pd\n",
    "from sklearn.pipeline import make_pipeline\n",
    "\n",
    "from sklearn.feature_extraction.text import CountVectorizer\n",
    "from sklearn.feature_extraction.text import TfidfTransformer\n",
    "from sklearn.linear_model import LogisticRegression"
   ]
  },
  {
   "cell_type": "markdown",
   "id": "42e63b28",
   "metadata": {},
   "source": [
    "### Fritz Kalkbrenner"
   ]
  },
  {
   "cell_type": "code",
   "execution_count": 2,
   "id": "1c7633f8",
   "metadata": {},
   "outputs": [],
   "source": [
    "URL = \"https://www.lyrics.com/artist/Fritz-Kalkbrenner/2096414\""
   ]
  },
  {
   "cell_type": "code",
   "execution_count": 3,
   "id": "78a26cdf",
   "metadata": {},
   "outputs": [],
   "source": [
    "response = requests.get(url=URL)"
   ]
  },
  {
   "cell_type": "code",
   "execution_count": 4,
   "id": "f48f15b4",
   "metadata": {},
   "outputs": [],
   "source": [
    "kalkbrenner_html = response.text"
   ]
  },
  {
   "cell_type": "code",
   "execution_count": 5,
   "id": "ee23b64c",
   "metadata": {},
   "outputs": [],
   "source": [
    "filename = \"kalkbrenner_html.txt\""
   ]
  },
  {
   "cell_type": "code",
   "execution_count": 6,
   "id": "c9c89c74",
   "metadata": {},
   "outputs": [],
   "source": [
    "with open(file=filename, mode=\"w\") as file:\n",
    "    file.write(kalkbrenner_html)"
   ]
  },
  {
   "cell_type": "code",
   "execution_count": 7,
   "id": "a614e536",
   "metadata": {},
   "outputs": [],
   "source": [
    "with open(file=filename, mode=\"r\") as file:\n",
    "    read_kalkbrenner_html =file.read()"
   ]
  },
  {
   "cell_type": "code",
   "execution_count": 8,
   "id": "72c939c6",
   "metadata": {},
   "outputs": [],
   "source": [
    "parsed_content = BeautifulSoup(markup=read_kalkbrenner_html, features='html.parser')"
   ]
  },
  {
   "cell_type": "code",
   "execution_count": 9,
   "id": "7e787b31",
   "metadata": {},
   "outputs": [],
   "source": [
    "all_songs_fkalkbrenner= parsed_content.find_all(name='td', attrs={'class':'tal qx'})"
   ]
  },
  {
   "cell_type": "code",
   "execution_count": 10,
   "id": "fe0bc72c",
   "metadata": {},
   "outputs": [
    {
     "name": "stdout",
     "output_type": "stream",
     "text": [
      "Changing Face /lyric/33230884/Fritz+Kalkbrenner/Changing+Face\n",
      "Back Home /lyric/32997843/Fritz+Kalkbrenner/Back+Home\n",
      "Back Home /lyric/31661141/Fritz+Kalkbrenner/Back+Home\n",
      "Back Home /lyric/32712081/Fritz+Kalkbrenner/Back+Home\n",
      "One of These Days [Radio Edit] [Edit] /lyric/33072641/Fritz+Kalkbrenner/One+of+These+Days+%5BRadio+Edit%5D+%5BEdit%5D\n",
      "Void /lyric/32680500/Fritz+Kalkbrenner/Void\n",
      "Void [Radio Edit] /lyric/32680499/Fritz+Kalkbrenner/Void+%5BRadio+Edit%5D\n",
      "Void [Baron Dafoe Remix] /lyric/32680498/Fritz+Kalkbrenner/Void+%5BBaron+Dafoe+Remix%5D\n",
      "Void [André Hommen Remix] /lyric/32680496/Fritz+Kalkbrenner/Void+%5BAndr%C3%A9+Hommen+Remix%5D\n",
      "Void [Talul Remix] /lyric/32680495/Fritz+Kalkbrenner/Void+%5BTalul+Remix%5D\n",
      "Back Home /lyric/32626489/Fritz+Kalkbrenner/Back+Home\n",
      "Sky and Sand /lyric/31067258/Fritz+Kalkbrenner/Sky+and+Sand\n",
      "Back Home [Radio Edit] /lyric/31567210/Fritz+Kalkbrenner/Back+Home+%5BRadio+Edit%5D\n",
      "Back Home /lyric/31506796/Fritz+Kalkbrenner/Back+Home\n",
      "Void /lyric/33830521/Fritz+Kalkbrenner/Void\n",
      "One of These Days /lyric/33830516/Fritz+Kalkbrenner/One+of+These+Days\n",
      "Little By Little /lyric/28962966/Fritz+Kalkbrenner/Little+By+Little\n",
      "Get a Life /lyric/27993867/Fritz+Kalkbrenner/Get+a+Life\n",
      "Little By Little /lyric/27993863/Fritz+Kalkbrenner/Little+By+Little\n",
      "Sky and Sand /lyric/27641908/Fritz+Kalkbrenner/Sky+and+Sand\n",
      "U's a Freak B*tch [Instrumental] [Instrumental] /lyric/29721861/Fritz+Kalkbrenner/U%27s+a+Freak+B%2Atch+%5BInstrumental%5D+%5BInstrumental%5D\n",
      "U's A Freak B*tch [Instrumental] /lyric/25544763/Fritz+Kalkbrenner/U%27s+A+Freak+B%2Atch+%5BInstrumental%5D\n",
      "Won't Do [Instrumental] [Instrumental] /lyric/29721857/Fritz+Kalkbrenner/Won%27t+Do+%5BInstrumental%5D+%5BInstrumental%5D\n",
      "Won't Do [Instrumental] /lyric/25544759/Fritz+Kalkbrenner/Won%27t+Do+%5BInstrumental%5D\n",
      "Right In the Dark /lyric/24033687/Fritz+Kalkbrenner/Right+In+the+Dark\n",
      "Sky & Sand /lyric/24267123/Fritz+Kalkbrenner/Sky+%26+Sand\n",
      "Sky and Sand /lyric/28901778/Fritz+Kalkbrenner/Sky+and+Sand\n",
      "Facing The Sun [Paul Kalkbrenner Remix] /lyric/22156686/Fritz+Kalkbrenner/Facing+The+Sun+%5BPaul+Kalkbrenner+Remix%5D\n",
      "Facing the Sun /lyric/29783881/Fritz+Kalkbrenner/Facing+the+Sun\n",
      "Right In the Dark /lyric/25991138/Fritz+Kalkbrenner/Right+In+the+Dark\n",
      "Facing the Sun /lyric/25991133/Fritz+Kalkbrenner/Facing+the+Sun\n",
      "Sky and Sand /lyric/18939129/Fritz+Kalkbrenner/Sky+and+Sand\n",
      "Sky and Sand /lyric/30257011/Fritz+Kalkbrenner/Sky+and+Sand\n",
      "Sky and Sand /lyric/24848558/Fritz+Kalkbrenner/Sky+and+Sand\n",
      "Sky and Sand /lyric/29443421/Fritz+Kalkbrenner/Sky+and+Sand\n",
      "Sky And Sand /lyric/22294586/Fritz+Kalkbrenner/Sky+And+Sand\n",
      "Sky and Sand /lyric/17705344/Fritz+Kalkbrenner/Sky+and+Sand\n",
      "Sky and Sand /lyric/35372135/Fritz+Kalkbrenner/Sky+and+Sand\n",
      "Void [Edit] /lyric/33190169/Fritz+Kalkbrenner/Void+%5BEdit%5D\n",
      "Changing Face [Maya Jane Coles Remix] /lyric/34008573/Fritz+Kalkbrenner/Changing+Face+%5BMaya+Jane+Coles+Remix%5D\n",
      "Changing Face [Adana Twins Remix] /lyric/34008572/Fritz+Kalkbrenner/Changing+Face+%5BAdana+Twins+Remix%5D\n",
      "Changing Face /lyric/34008570/Fritz+Kalkbrenner/Changing+Face\n",
      "Facing the Sun [Paul Kalkbrenner Remix] /lyric/22071451/Fritz+Kalkbrenner/Facing+the+Sun+%5BPaul+Kalkbrenner+Remix%5D\n",
      "Get a Life /lyric/29811489/Fritz+Kalkbrenner/Get+a+Life\n",
      "Little by Little [Jonas Woehl Dub] /lyric/30252184/Fritz+Kalkbrenner/Little+by+Little+%5BJonas+Woehl+Dub%5D\n",
      "One of These Days /lyric/33830531/Fritz+Kalkbrenner/One+of+These+Days\n",
      "Sky and Sand /lyric/22843324/Fritz+Kalkbrenner/Sky+and+Sand\n",
      "Right in the Dark /lyric/29764423/Fritz+Kalkbrenner/Right+in+the+Dark\n",
      "Kings & Queens /lyric/36996672/Fritz+Kalkbrenner/Kings+%26+Queens\n",
      "Kings & Queens /lyric/37102691/Fritz+Kalkbrenner/Kings+%26+Queens\n",
      "Little By Little /lyric/29852487/Fritz+Kalkbrenner/Little+By+Little\n",
      "Changing Face /lyric/33397197/Fritz+Kalkbrenner/Changing+Face\n",
      "Kings & Queens /lyric/36668093/Fritz+Kalkbrenner/Kings+%26+Queens\n",
      "One of These Days /lyric/33830533/Fritz+Kalkbrenner/One+of+These+Days\n",
      "Get A Life [Original Mix] /lyric/29810823/Fritz+Kalkbrenner/Get+A+Life+%5BOriginal+Mix%5D\n",
      "Little By Little [Original Mix] /lyric/29810819/Fritz+Kalkbrenner/Little+By+Little+%5BOriginal+Mix%5D\n",
      "Void /lyric/32680497/Fritz+Kalkbrenner/Void\n",
      "Get A Life /lyric/30819027/Fritz+Kalkbrenner/Get+A+Life\n",
      "Crossing Borders /lyric/30813360/Fritz+Kalkbrenner/Crossing+Borders\n",
      "Kings & Queens /lyric-lf/1604108/Fritz+Kalkbrenner/Kings+%26+Queens\n",
      "Back Home /lyric-lf/10417/Fritz+Kalkbrenner/Back+Home\n",
      "Crossing Borders [Booka's Club Mix] /lyric/31061842/Fritz+Kalkbrenner/Crossing+Borders+%5BBooka%27s+Club+Mix%5D\n"
     ]
    }
   ],
   "source": [
    "titles= []\n",
    "for idx,line in enumerate(all_songs_fkalkbrenner):\n",
    "    title = line.find(name='a').get_text()\n",
    "    description = line.a['href']\n",
    "    print(title, description)\n",
    "    titles.append(title)"
   ]
  },
  {
   "cell_type": "code",
   "execution_count": 11,
   "id": "8b98c5b5",
   "metadata": {},
   "outputs": [],
   "source": [
    "descriptions= []\n",
    "for idx,line in enumerate(all_songs_fkalkbrenner):\n",
    "    description = line.find(name='a').get_text()\n",
    "    description = line.a['href']\n",
    "    descriptions.append(description)"
   ]
  },
  {
   "cell_type": "code",
   "execution_count": 12,
   "id": "88058f51",
   "metadata": {},
   "outputs": [],
   "source": [
    "titles_descriptions = pd.DataFrame({'song':titles, 'lyric':descriptions})"
   ]
  },
  {
   "cell_type": "code",
   "execution_count": 13,
   "id": "18b1e0ac",
   "metadata": {},
   "outputs": [],
   "source": [
    "titles_descriptions['website']= 'https://www.lyrics.com'"
   ]
  },
  {
   "cell_type": "code",
   "execution_count": 14,
   "id": "9c9fc186",
   "metadata": {
    "scrolled": true
   },
   "outputs": [],
   "source": [
    "titles_descriptions['link']= titles_descriptions['website'] + titles_descriptions['lyric']"
   ]
  },
  {
   "cell_type": "code",
   "execution_count": 15,
   "id": "193181f8",
   "metadata": {
    "scrolled": true
   },
   "outputs": [
    {
     "name": "stdout",
     "output_type": "stream",
     "text": [
      "https://www.lyrics.com/lyric/33230884/Fritz+Kalkbrenner/Changing+Face\n",
      "https://www.lyrics.com/lyric/32997843/Fritz+Kalkbrenner/Back+Home\n",
      "https://www.lyrics.com/lyric/31661141/Fritz+Kalkbrenner/Back+Home\n",
      "https://www.lyrics.com/lyric/32712081/Fritz+Kalkbrenner/Back+Home\n",
      "https://www.lyrics.com/lyric/33072641/Fritz+Kalkbrenner/One+of+These+Days+%5BRadio+Edit%5D+%5BEdit%5D\n",
      "https://www.lyrics.com/lyric/32680500/Fritz+Kalkbrenner/Void\n",
      "https://www.lyrics.com/lyric/32680499/Fritz+Kalkbrenner/Void+%5BRadio+Edit%5D\n",
      "https://www.lyrics.com/lyric/32680498/Fritz+Kalkbrenner/Void+%5BBaron+Dafoe+Remix%5D\n",
      "https://www.lyrics.com/lyric/32680496/Fritz+Kalkbrenner/Void+%5BAndr%C3%A9+Hommen+Remix%5D\n",
      "https://www.lyrics.com/lyric/32680495/Fritz+Kalkbrenner/Void+%5BTalul+Remix%5D\n",
      "https://www.lyrics.com/lyric/32626489/Fritz+Kalkbrenner/Back+Home\n",
      "https://www.lyrics.com/lyric/31067258/Fritz+Kalkbrenner/Sky+and+Sand\n",
      "https://www.lyrics.com/lyric/31567210/Fritz+Kalkbrenner/Back+Home+%5BRadio+Edit%5D\n",
      "https://www.lyrics.com/lyric/31506796/Fritz+Kalkbrenner/Back+Home\n",
      "https://www.lyrics.com/lyric/33830521/Fritz+Kalkbrenner/Void\n",
      "https://www.lyrics.com/lyric/33830516/Fritz+Kalkbrenner/One+of+These+Days\n",
      "https://www.lyrics.com/lyric/28962966/Fritz+Kalkbrenner/Little+By+Little\n",
      "https://www.lyrics.com/lyric/27993867/Fritz+Kalkbrenner/Get+a+Life\n",
      "https://www.lyrics.com/lyric/27993863/Fritz+Kalkbrenner/Little+By+Little\n",
      "https://www.lyrics.com/lyric/27641908/Fritz+Kalkbrenner/Sky+and+Sand\n",
      "https://www.lyrics.com/lyric/29721861/Fritz+Kalkbrenner/U%27s+a+Freak+B%2Atch+%5BInstrumental%5D+%5BInstrumental%5D\n",
      "https://www.lyrics.com/lyric/25544763/Fritz+Kalkbrenner/U%27s+A+Freak+B%2Atch+%5BInstrumental%5D\n",
      "https://www.lyrics.com/lyric/29721857/Fritz+Kalkbrenner/Won%27t+Do+%5BInstrumental%5D+%5BInstrumental%5D\n",
      "https://www.lyrics.com/lyric/25544759/Fritz+Kalkbrenner/Won%27t+Do+%5BInstrumental%5D\n",
      "https://www.lyrics.com/lyric/24033687/Fritz+Kalkbrenner/Right+In+the+Dark\n",
      "https://www.lyrics.com/lyric/24267123/Fritz+Kalkbrenner/Sky+%26+Sand\n",
      "https://www.lyrics.com/lyric/28901778/Fritz+Kalkbrenner/Sky+and+Sand\n",
      "https://www.lyrics.com/lyric/22156686/Fritz+Kalkbrenner/Facing+The+Sun+%5BPaul+Kalkbrenner+Remix%5D\n",
      "https://www.lyrics.com/lyric/29783881/Fritz+Kalkbrenner/Facing+the+Sun\n",
      "https://www.lyrics.com/lyric/25991138/Fritz+Kalkbrenner/Right+In+the+Dark\n",
      "https://www.lyrics.com/lyric/25991133/Fritz+Kalkbrenner/Facing+the+Sun\n",
      "https://www.lyrics.com/lyric/18939129/Fritz+Kalkbrenner/Sky+and+Sand\n",
      "https://www.lyrics.com/lyric/30257011/Fritz+Kalkbrenner/Sky+and+Sand\n",
      "https://www.lyrics.com/lyric/24848558/Fritz+Kalkbrenner/Sky+and+Sand\n",
      "https://www.lyrics.com/lyric/29443421/Fritz+Kalkbrenner/Sky+and+Sand\n",
      "https://www.lyrics.com/lyric/22294586/Fritz+Kalkbrenner/Sky+And+Sand\n",
      "https://www.lyrics.com/lyric/17705344/Fritz+Kalkbrenner/Sky+and+Sand\n",
      "https://www.lyrics.com/lyric/35372135/Fritz+Kalkbrenner/Sky+and+Sand\n",
      "https://www.lyrics.com/lyric/33190169/Fritz+Kalkbrenner/Void+%5BEdit%5D\n",
      "https://www.lyrics.com/lyric/34008573/Fritz+Kalkbrenner/Changing+Face+%5BMaya+Jane+Coles+Remix%5D\n",
      "https://www.lyrics.com/lyric/34008572/Fritz+Kalkbrenner/Changing+Face+%5BAdana+Twins+Remix%5D\n",
      "https://www.lyrics.com/lyric/34008570/Fritz+Kalkbrenner/Changing+Face\n",
      "https://www.lyrics.com/lyric/22071451/Fritz+Kalkbrenner/Facing+the+Sun+%5BPaul+Kalkbrenner+Remix%5D\n",
      "https://www.lyrics.com/lyric/29811489/Fritz+Kalkbrenner/Get+a+Life\n",
      "https://www.lyrics.com/lyric/30252184/Fritz+Kalkbrenner/Little+by+Little+%5BJonas+Woehl+Dub%5D\n",
      "https://www.lyrics.com/lyric/33830531/Fritz+Kalkbrenner/One+of+These+Days\n",
      "https://www.lyrics.com/lyric/22843324/Fritz+Kalkbrenner/Sky+and+Sand\n",
      "https://www.lyrics.com/lyric/29764423/Fritz+Kalkbrenner/Right+in+the+Dark\n",
      "https://www.lyrics.com/lyric/36996672/Fritz+Kalkbrenner/Kings+%26+Queens\n",
      "https://www.lyrics.com/lyric/37102691/Fritz+Kalkbrenner/Kings+%26+Queens\n",
      "https://www.lyrics.com/lyric/29852487/Fritz+Kalkbrenner/Little+By+Little\n",
      "https://www.lyrics.com/lyric/33397197/Fritz+Kalkbrenner/Changing+Face\n",
      "https://www.lyrics.com/lyric/36668093/Fritz+Kalkbrenner/Kings+%26+Queens\n",
      "https://www.lyrics.com/lyric/33830533/Fritz+Kalkbrenner/One+of+These+Days\n",
      "https://www.lyrics.com/lyric/29810823/Fritz+Kalkbrenner/Get+A+Life+%5BOriginal+Mix%5D\n",
      "https://www.lyrics.com/lyric/29810819/Fritz+Kalkbrenner/Little+By+Little+%5BOriginal+Mix%5D\n",
      "https://www.lyrics.com/lyric/32680497/Fritz+Kalkbrenner/Void\n",
      "https://www.lyrics.com/lyric/30819027/Fritz+Kalkbrenner/Get+A+Life\n",
      "https://www.lyrics.com/lyric/30813360/Fritz+Kalkbrenner/Crossing+Borders\n",
      "https://www.lyrics.com/lyric-lf/1604108/Fritz+Kalkbrenner/Kings+%26+Queens\n",
      "https://www.lyrics.com/lyric-lf/10417/Fritz+Kalkbrenner/Back+Home\n"
     ]
    }
   ],
   "source": [
    "for i in titles_descriptions.link[0:61]:\n",
    "    print (i)"
   ]
  },
  {
   "cell_type": "markdown",
   "id": "6ebf212c",
   "metadata": {},
   "source": [
    "#### For-Loop creating the lyrics of 5 selected songs of Fritz Kalkbrenner from Lyrics.com by using BeautifulSoup and download the song with the respective lyrics"
   ]
  },
  {
   "cell_type": "code",
   "execution_count": 16,
   "id": "af3495ee",
   "metadata": {},
   "outputs": [
    {
     "data": {
      "text/plain": [
       "28    https://www.lyrics.com/lyric/29783881/Fritz+Ka...\n",
       "Name: link, dtype: object"
      ]
     },
     "execution_count": 16,
     "metadata": {},
     "output_type": "execute_result"
    }
   ],
   "source": [
    "titles_descriptions.link[28:29]"
   ]
  },
  {
   "cell_type": "code",
   "execution_count": 17,
   "id": "520e8047",
   "metadata": {},
   "outputs": [
    {
     "data": {
      "text/plain": [
       "29    https://www.lyrics.com/lyric/25991138/Fritz+Ka...\n",
       "Name: link, dtype: object"
      ]
     },
     "execution_count": 17,
     "metadata": {},
     "output_type": "execute_result"
    }
   ],
   "source": [
    "titles_descriptions.link[29:30]"
   ]
  },
  {
   "cell_type": "code",
   "execution_count": 18,
   "id": "5fe4cbfd",
   "metadata": {},
   "outputs": [
    {
     "data": {
      "text/plain": [
       "57    https://www.lyrics.com/lyric/30819027/Fritz+Ka...\n",
       "Name: link, dtype: object"
      ]
     },
     "execution_count": 18,
     "metadata": {},
     "output_type": "execute_result"
    }
   ],
   "source": [
    "titles_descriptions.link[57:58]"
   ]
  },
  {
   "cell_type": "code",
   "execution_count": 19,
   "id": "c22f0d48",
   "metadata": {},
   "outputs": [
    {
     "data": {
      "text/plain": [
       "58    https://www.lyrics.com/lyric/30813360/Fritz+Ka...\n",
       "Name: link, dtype: object"
      ]
     },
     "execution_count": 19,
     "metadata": {},
     "output_type": "execute_result"
    }
   ],
   "source": [
    "titles_descriptions.link[58:59]"
   ]
  },
  {
   "cell_type": "code",
   "execution_count": 20,
   "id": "6cf9ce07",
   "metadata": {},
   "outputs": [
    {
     "data": {
      "text/plain": [
       "60    https://www.lyrics.com/lyric-lf/10417/Fritz+Ka...\n",
       "Name: link, dtype: object"
      ]
     },
     "execution_count": 20,
     "metadata": {},
     "output_type": "execute_result"
    }
   ],
   "source": [
    "titles_descriptions.link[60:61]"
   ]
  },
  {
   "cell_type": "code",
   "execution_count": 21,
   "id": "10f91b48",
   "metadata": {},
   "outputs": [
    {
     "data": {
      "text/plain": [
       "0    https://www.lyrics.com/lyric/33230884/Fritz+Ka...\n",
       "1    https://www.lyrics.com/lyric/32997843/Fritz+Ka...\n",
       "Name: link, dtype: object"
      ]
     },
     "execution_count": 21,
     "metadata": {},
     "output_type": "execute_result"
    }
   ],
   "source": [
    "selected_rows_1 = titles_descriptions.link[0:2]\n",
    "selected_rows_1"
   ]
  },
  {
   "cell_type": "code",
   "execution_count": 22,
   "id": "1eecf22a",
   "metadata": {},
   "outputs": [
    {
     "data": {
      "text/plain": [
       "18    https://www.lyrics.com/lyric/27993863/Fritz+Ka...\n",
       "Name: link, dtype: object"
      ]
     },
     "execution_count": 22,
     "metadata": {},
     "output_type": "execute_result"
    }
   ],
   "source": [
    "selected_rows_2 = titles_descriptions.link[18:19]\n",
    "selected_rows_2"
   ]
  },
  {
   "cell_type": "code",
   "execution_count": 23,
   "id": "fb0ff900",
   "metadata": {},
   "outputs": [
    {
     "data": {
      "text/plain": [
       "28    https://www.lyrics.com/lyric/29783881/Fritz+Ka...\n",
       "29    https://www.lyrics.com/lyric/25991138/Fritz+Ka...\n",
       "Name: link, dtype: object"
      ]
     },
     "execution_count": 23,
     "metadata": {},
     "output_type": "execute_result"
    }
   ],
   "source": [
    "selected_rows_3 = titles_descriptions.link[28:30]\n",
    "selected_rows_3"
   ]
  },
  {
   "cell_type": "code",
   "execution_count": 24,
   "id": "3d8aa494",
   "metadata": {},
   "outputs": [
    {
     "data": {
      "text/plain": [
       "['https://www.lyrics.com/lyric/33230884/Fritz+Kalkbrenner/Changing+Face',\n",
       " 'https://www.lyrics.com/lyric/32997843/Fritz+Kalkbrenner/Back+Home',\n",
       " 'https://www.lyrics.com/lyric/27993863/Fritz+Kalkbrenner/Little+By+Little',\n",
       " 'https://www.lyrics.com/lyric/29783881/Fritz+Kalkbrenner/Facing+the+Sun',\n",
       " 'https://www.lyrics.com/lyric/25991138/Fritz+Kalkbrenner/Right+In+the+Dark']"
      ]
     },
     "execution_count": 24,
     "metadata": {},
     "output_type": "execute_result"
    }
   ],
   "source": [
    "selected_rows= [selected_rows_1, selected_rows_2, selected_rows_3]\n",
    "new_extended_list= []\n",
    "for item in selected_rows:\n",
    "    # print(type(item))\n",
    "    # print(item.tolist())\n",
    "    # print(item.values)\n",
    "    new_extended_list.extend(item.tolist())\n",
    "new_extended_list"
   ]
  },
  {
   "cell_type": "code",
   "execution_count": 25,
   "id": "58a923fc",
   "metadata": {},
   "outputs": [
    {
     "name": "stdout",
     "output_type": "stream",
     "text": [
      "['0_Changing_Face.txt', '1_Back_Home.txt', '2_Little_By_Little.txt', '3_Facing_the_Sun.txt', '4_Right_In_the_Dark.txt']\n"
     ]
    }
   ],
   "source": [
    "file_names = []\n",
    "for idx, dow in enumerate(new_extended_list):\n",
    "    index = idx\n",
    "    link = dow\n",
    "    response_link= requests.get(link).text\n",
    "    soup= BeautifulSoup(markup=response_link, features= \"html.parser\")\n",
    "    lyrics = soup.find(name='pre').get_text()\n",
    "    title= soup.find(name='h1', attrs={'id': 'lyric-title-text'}).get_text()\n",
    "    file= f\"{idx}_{title}.txt\".replace(' ', '_')\n",
    "    with open(file, mode=\"w\") as file_out:\n",
    "        file_out.write(lyrics)\n",
    "    file_names.append(file)\n",
    "    time.sleep(3)\n",
    "\n",
    "print(file_names)"
   ]
  },
  {
   "cell_type": "markdown",
   "id": "1975e20e",
   "metadata": {},
   "source": [
    "### Paul Kalkbrenner"
   ]
  },
  {
   "cell_type": "code",
   "execution_count": 26,
   "id": "4f9b6185",
   "metadata": {},
   "outputs": [],
   "source": [
    "URL = \"https://www.lyrics.com/artist/Paul-Kalkbrenner/250037\""
   ]
  },
  {
   "cell_type": "code",
   "execution_count": 27,
   "id": "7e3d9b7f",
   "metadata": {},
   "outputs": [],
   "source": [
    "response_2 = requests.get(url=URL)"
   ]
  },
  {
   "cell_type": "code",
   "execution_count": 28,
   "id": "e41d186a",
   "metadata": {},
   "outputs": [],
   "source": [
    "paul_kalkbrenner_html = response_2.text"
   ]
  },
  {
   "cell_type": "code",
   "execution_count": 29,
   "id": "eb4854ef",
   "metadata": {},
   "outputs": [],
   "source": [
    "filename_2 = \"paul_kalkbrenner_html.txt\""
   ]
  },
  {
   "cell_type": "code",
   "execution_count": 30,
   "id": "63094b0c",
   "metadata": {},
   "outputs": [],
   "source": [
    "with open(file=filename_2, mode=\"w\", encoding='utf8') as file:\n",
    "    file.write(paul_kalkbrenner_html)"
   ]
  },
  {
   "cell_type": "code",
   "execution_count": 31,
   "id": "83e35ef1",
   "metadata": {},
   "outputs": [],
   "source": [
    "with open(file=filename_2, mode=\"r\", encoding='utf8') as file:\n",
    "    read_paul_kalkbrenner_html =file.read()"
   ]
  },
  {
   "cell_type": "code",
   "execution_count": 32,
   "id": "4d4f9eff",
   "metadata": {},
   "outputs": [],
   "source": [
    "parsed_content_2 = BeautifulSoup(markup=read_paul_kalkbrenner_html, features='html.parser')"
   ]
  },
  {
   "cell_type": "code",
   "execution_count": 33,
   "id": "b309f584",
   "metadata": {},
   "outputs": [],
   "source": [
    "all_songs_pkalkbrenner= parsed_content_2.find_all(name='td', attrs={'class':'tal qx'})"
   ]
  },
  {
   "cell_type": "code",
   "execution_count": 34,
   "id": "03aba1a8",
   "metadata": {},
   "outputs": [
    {
     "name": "stdout",
     "output_type": "stream",
     "text": [
      "Part Six /lyric/35029894/Paul+Kalkbrenner/Part+Six\n",
      "Cloud Rider /lyric/32020148/Paul+Kalkbrenner/Cloud+Rider\n",
      "A Million Days /lyric/32020140/Paul+Kalkbrenner/A+Million+Days\n",
      "Bengang [Format:B Remix] /lyric/30875964/Paul+Kalkbrenner/Bengang+%5BFormat%3AB+Remix%5D\n",
      "Sky And Sand [Robag's Borsi Alpakka Rehand] [Version] /lyric/30875960/Paul+Kalkbrenner/Sky+And+Sand+%5BRobag%27s+Borsi+Alpakka+Rehand%5D+%5BVersion%5D\n",
      "Sky and Sand /lyric/31067258/Paul+Kalkbrenner/Sky+and+Sand\n",
      "Sky & Sand /lyric/30819055/Paul+Kalkbrenner/Sky+%26+Sand\n",
      "Sky and Sand /lyric/30745142/Paul+Kalkbrenner/Sky+and+Sand\n",
      "Bengang /lyric/31248070/Paul+Kalkbrenner/Bengang\n",
      "Sky & Sand /lyric/29889009/Paul+Kalkbrenner/Sky+%26+Sand\n",
      "Sky and Sand /lyric/27641908/Paul+Kalkbrenner/Sky+and+Sand\n",
      "Sky & Sand /lyric/24138655/Paul+Kalkbrenner/Sky+%26+Sand\n",
      "Sky and Sand /lyric/25324365/Paul+Kalkbrenner/Sky+and+Sand\n",
      "Sky & Sand /lyric/24267123/Paul+Kalkbrenner/Sky+%26+Sand\n",
      "Dockyard /lyric/22680887/Paul+Kalkbrenner/Dockyard\n",
      "Aaron /lyric/22680886/Paul+Kalkbrenner/Aaron\n",
      "Sky & Sand /lyric/22680879/Paul+Kalkbrenner/Sky+%26+Sand\n",
      "Bengang /lyric/22680874/Paul+Kalkbrenner/Bengang\n",
      "Sky and Sand /lyric/28901778/Paul+Kalkbrenner/Sky+and+Sand\n",
      "Bengang /lyric/18519671/Paul+Kalkbrenner/Bengang\n",
      "Sky and Sand /lyric/18939129/Paul+Kalkbrenner/Sky+and+Sand\n",
      "Sky and Sand /lyric/30257011/Paul+Kalkbrenner/Sky+and+Sand\n",
      "Sky and Sand /lyric/24848558/Paul+Kalkbrenner/Sky+and+Sand\n",
      "Sky and Sand /lyric/29443421/Paul+Kalkbrenner/Sky+and+Sand\n",
      "Sky And Sand /lyric/22294586/Paul+Kalkbrenner/Sky+And+Sand\n",
      "Sky and Sand /lyric/17705344/Paul+Kalkbrenner/Sky+and+Sand\n",
      "Sky And Sand /lyric/18771183/Paul+Kalkbrenner/Sky+And+Sand\n",
      "Sky and Sand /lyric/17277459/Paul+Kalkbrenner/Sky+and+Sand\n",
      "Sky and Sand /lyric/18762138/Paul+Kalkbrenner/Sky+and+Sand\n",
      "Aaron /lyric/15323656/Paul+Kalkbrenner/Aaron\n",
      "Dockyard /lyric/8317505/Paul+Kalkbrenner/Dockyard\n",
      "Sky and Sand /lyric/35372135/Paul+Kalkbrenner/Sky+and+Sand\n",
      "Bengang /lyric/35372142/Paul+Kalkbrenner/Bengang\n",
      "Das Gezabel /lyric/27664644/Paul+Kalkbrenner/Das+Gezabel\n",
      "Der Buhold /lyric/28397718/Paul+Kalkbrenner/Der+Buhold\n",
      "Sky and Sand [Robag's Borsi Alpakka Rehand] /lyric/30857191/Paul+Kalkbrenner/Sky+and+Sand+%5BRobag%27s+Borsi+Alpakka+Rehand%5D\n",
      "Sky and Sand /lyric/30857190/Paul+Kalkbrenner/Sky+and+Sand\n",
      "Sky and Sand /lyric/22843324/Paul+Kalkbrenner/Sky+and+Sand\n",
      "Wir werden sehen /lyric/24381387/Paul+Kalkbrenner/Wir+werden+sehen\n",
      "Feed Your Head /lyric/32414836/Paul+Kalkbrenner/Feed+Your+Head\n",
      "Wir werden sehen [Paul Kalkbrenner Remix 2020 Edit] /lyric/36994560/Paul+Kalkbrenner/Wir+werden+sehen+%5BPaul+Kalkbrenner+Remix+2020+Edit%5D\n",
      "No Goodbye /lyric/36607684/Paul+Kalkbrenner/No+Goodbye\n",
      "Wir werden sehen /lyric/36994197/Paul+Kalkbrenner/Wir+werden+sehen\n",
      "Bengang [Format:B Remix] /lyric/15323666/Paul+Kalkbrenner/Bengang+%5BFormat%3AB+Remix%5D\n",
      "Wir werden sehen /lyric/21124839/Paul+Kalkbrenner/Wir+werden+sehen\n",
      "No Goodbye /lyric-lf/1609333/Paul+Kalkbrenner/No+Goodbye\n",
      "Feed Your Head /lyric-lf/145231/Paul+Kalkbrenner/Feed+Your+Head\n",
      "Battery Park /lyric-lf/146301/Paul+Kalkbrenner/Battery+Park\n",
      "Wir werden sehen [Paul Kalkbrenner Remix 2020 Edit] /lyric-lf/1723276/Paul+Kalkbrenner/Wir+werden+sehen+%5BPaul+Kalkbrenner+Remix+2020+Edit%5D\n",
      "No Goodbye /lyric-lf/1609307/Paul+Kalkbrenner/No+Goodbye\n",
      "Feed Your Head /lyric-lf/1132692/Paul+Kalkbrenner/Feed+Your+Head\n",
      "Parachute /lyric-lf/2253091/Paul+Kalkbrenner/Parachute\n",
      "Feed Your Head [Robin Schulz Remix] /lyric-lf/1132144/Paul+Kalkbrenner/Feed+Your+Head+%5BRobin+Schulz+Remix%5D\n",
      "Graf Zahl /lyric-lf/2503431/Paul+Kalkbrenner/Graf+Zahl\n",
      "Si Soy Fuego /lyric-lf/5919690/Paul+Kalkbrenner/Si+Soy+Fuego\n"
     ]
    }
   ],
   "source": [
    "titles_2= []\n",
    "for idx,line in enumerate(all_songs_pkalkbrenner):\n",
    "    title_2 = line.find(name='a').get_text()\n",
    "    description_2 = line.a['href']\n",
    "    print(title_2, description_2)\n",
    "    titles_2.append(title_2)"
   ]
  },
  {
   "cell_type": "code",
   "execution_count": 35,
   "id": "55fdbbaf",
   "metadata": {},
   "outputs": [],
   "source": [
    "descriptions_2= []\n",
    "for idx,line in enumerate(all_songs_pkalkbrenner):\n",
    "    description_2 = line.find(name='a').get_text()\n",
    "    description_2 = line.a['href']\n",
    "    descriptions_2.append(description_2)"
   ]
  },
  {
   "cell_type": "code",
   "execution_count": 36,
   "id": "af666907",
   "metadata": {},
   "outputs": [],
   "source": [
    "titles_2_descriptions_2 = pd.DataFrame({'song':titles_2, 'lyric':descriptions_2})"
   ]
  },
  {
   "cell_type": "code",
   "execution_count": 37,
   "id": "8a2acdab",
   "metadata": {},
   "outputs": [],
   "source": [
    "titles_2_descriptions_2['website']= 'https://www.lyrics.com'"
   ]
  },
  {
   "cell_type": "code",
   "execution_count": 38,
   "id": "1520ac7d",
   "metadata": {
    "scrolled": false
   },
   "outputs": [],
   "source": [
    "titles_2_descriptions_2['link']= titles_2_descriptions_2['website'] + titles_2_descriptions_2['lyric']"
   ]
  },
  {
   "cell_type": "code",
   "execution_count": 39,
   "id": "7d15d9d1",
   "metadata": {
    "scrolled": true
   },
   "outputs": [
    {
     "name": "stdout",
     "output_type": "stream",
     "text": [
      "https://www.lyrics.com/lyric/35029894/Paul+Kalkbrenner/Part+Six\n",
      "https://www.lyrics.com/lyric/32020148/Paul+Kalkbrenner/Cloud+Rider\n",
      "https://www.lyrics.com/lyric/32020140/Paul+Kalkbrenner/A+Million+Days\n",
      "https://www.lyrics.com/lyric/30875964/Paul+Kalkbrenner/Bengang+%5BFormat%3AB+Remix%5D\n",
      "https://www.lyrics.com/lyric/30875960/Paul+Kalkbrenner/Sky+And+Sand+%5BRobag%27s+Borsi+Alpakka+Rehand%5D+%5BVersion%5D\n",
      "https://www.lyrics.com/lyric/31067258/Paul+Kalkbrenner/Sky+and+Sand\n",
      "https://www.lyrics.com/lyric/30819055/Paul+Kalkbrenner/Sky+%26+Sand\n",
      "https://www.lyrics.com/lyric/30745142/Paul+Kalkbrenner/Sky+and+Sand\n",
      "https://www.lyrics.com/lyric/31248070/Paul+Kalkbrenner/Bengang\n",
      "https://www.lyrics.com/lyric/29889009/Paul+Kalkbrenner/Sky+%26+Sand\n",
      "https://www.lyrics.com/lyric/27641908/Paul+Kalkbrenner/Sky+and+Sand\n",
      "https://www.lyrics.com/lyric/24138655/Paul+Kalkbrenner/Sky+%26+Sand\n",
      "https://www.lyrics.com/lyric/25324365/Paul+Kalkbrenner/Sky+and+Sand\n",
      "https://www.lyrics.com/lyric/24267123/Paul+Kalkbrenner/Sky+%26+Sand\n",
      "https://www.lyrics.com/lyric/22680887/Paul+Kalkbrenner/Dockyard\n",
      "https://www.lyrics.com/lyric/22680886/Paul+Kalkbrenner/Aaron\n",
      "https://www.lyrics.com/lyric/22680879/Paul+Kalkbrenner/Sky+%26+Sand\n",
      "https://www.lyrics.com/lyric/22680874/Paul+Kalkbrenner/Bengang\n",
      "https://www.lyrics.com/lyric/28901778/Paul+Kalkbrenner/Sky+and+Sand\n",
      "https://www.lyrics.com/lyric/18519671/Paul+Kalkbrenner/Bengang\n",
      "https://www.lyrics.com/lyric/18939129/Paul+Kalkbrenner/Sky+and+Sand\n",
      "https://www.lyrics.com/lyric/30257011/Paul+Kalkbrenner/Sky+and+Sand\n",
      "https://www.lyrics.com/lyric/24848558/Paul+Kalkbrenner/Sky+and+Sand\n",
      "https://www.lyrics.com/lyric/29443421/Paul+Kalkbrenner/Sky+and+Sand\n",
      "https://www.lyrics.com/lyric/22294586/Paul+Kalkbrenner/Sky+And+Sand\n",
      "https://www.lyrics.com/lyric/17705344/Paul+Kalkbrenner/Sky+and+Sand\n",
      "https://www.lyrics.com/lyric/18771183/Paul+Kalkbrenner/Sky+And+Sand\n",
      "https://www.lyrics.com/lyric/17277459/Paul+Kalkbrenner/Sky+and+Sand\n",
      "https://www.lyrics.com/lyric/18762138/Paul+Kalkbrenner/Sky+and+Sand\n",
      "https://www.lyrics.com/lyric/15323656/Paul+Kalkbrenner/Aaron\n",
      "https://www.lyrics.com/lyric/8317505/Paul+Kalkbrenner/Dockyard\n",
      "https://www.lyrics.com/lyric/35372135/Paul+Kalkbrenner/Sky+and+Sand\n",
      "https://www.lyrics.com/lyric/35372142/Paul+Kalkbrenner/Bengang\n",
      "https://www.lyrics.com/lyric/27664644/Paul+Kalkbrenner/Das+Gezabel\n",
      "https://www.lyrics.com/lyric/28397718/Paul+Kalkbrenner/Der+Buhold\n",
      "https://www.lyrics.com/lyric/30857191/Paul+Kalkbrenner/Sky+and+Sand+%5BRobag%27s+Borsi+Alpakka+Rehand%5D\n",
      "https://www.lyrics.com/lyric/30857190/Paul+Kalkbrenner/Sky+and+Sand\n",
      "https://www.lyrics.com/lyric/22843324/Paul+Kalkbrenner/Sky+and+Sand\n",
      "https://www.lyrics.com/lyric/24381387/Paul+Kalkbrenner/Wir+werden+sehen\n",
      "https://www.lyrics.com/lyric/32414836/Paul+Kalkbrenner/Feed+Your+Head\n",
      "https://www.lyrics.com/lyric/36994560/Paul+Kalkbrenner/Wir+werden+sehen+%5BPaul+Kalkbrenner+Remix+2020+Edit%5D\n",
      "https://www.lyrics.com/lyric/36607684/Paul+Kalkbrenner/No+Goodbye\n",
      "https://www.lyrics.com/lyric/36994197/Paul+Kalkbrenner/Wir+werden+sehen\n",
      "https://www.lyrics.com/lyric/15323666/Paul+Kalkbrenner/Bengang+%5BFormat%3AB+Remix%5D\n",
      "https://www.lyrics.com/lyric/21124839/Paul+Kalkbrenner/Wir+werden+sehen\n",
      "https://www.lyrics.com/lyric-lf/1609333/Paul+Kalkbrenner/No+Goodbye\n",
      "https://www.lyrics.com/lyric-lf/145231/Paul+Kalkbrenner/Feed+Your+Head\n",
      "https://www.lyrics.com/lyric-lf/146301/Paul+Kalkbrenner/Battery+Park\n",
      "https://www.lyrics.com/lyric-lf/1723276/Paul+Kalkbrenner/Wir+werden+sehen+%5BPaul+Kalkbrenner+Remix+2020+Edit%5D\n",
      "https://www.lyrics.com/lyric-lf/1609307/Paul+Kalkbrenner/No+Goodbye\n",
      "https://www.lyrics.com/lyric-lf/1132692/Paul+Kalkbrenner/Feed+Your+Head\n",
      "https://www.lyrics.com/lyric-lf/2253091/Paul+Kalkbrenner/Parachute\n",
      "https://www.lyrics.com/lyric-lf/1132144/Paul+Kalkbrenner/Feed+Your+Head+%5BRobin+Schulz+Remix%5D\n",
      "https://www.lyrics.com/lyric-lf/2503431/Paul+Kalkbrenner/Graf+Zahl\n",
      "https://www.lyrics.com/lyric-lf/5919690/Paul+Kalkbrenner/Si+Soy+Fuego\n"
     ]
    }
   ],
   "source": [
    "for i in titles_2_descriptions_2.link[:]:\n",
    "    print (i)"
   ]
  },
  {
   "cell_type": "markdown",
   "id": "1c95488a",
   "metadata": {},
   "source": [
    "#### For-Loop creating the lyrics of 5 selected songs of Paul Kalkbrenner from Lyrics.com by using BeautifulSoup and download the song with the respective lyrics"
   ]
  },
  {
   "cell_type": "code",
   "execution_count": 40,
   "id": "bd2e2746",
   "metadata": {},
   "outputs": [],
   "source": [
    "selected_rows_1_Paul = titles_2_descriptions_2.link[1:2]"
   ]
  },
  {
   "cell_type": "code",
   "execution_count": 41,
   "id": "de4a3844",
   "metadata": {},
   "outputs": [],
   "source": [
    "selected_rows_2_Paul = titles_2_descriptions_2.link[37:39]"
   ]
  },
  {
   "cell_type": "code",
   "execution_count": 42,
   "id": "be817423",
   "metadata": {},
   "outputs": [],
   "source": [
    "selected_rows_3_Paul = titles_2_descriptions_2.link[50:52]"
   ]
  },
  {
   "cell_type": "code",
   "execution_count": 43,
   "id": "388d7824",
   "metadata": {},
   "outputs": [
    {
     "data": {
      "text/plain": [
       "['https://www.lyrics.com/lyric/32020148/Paul+Kalkbrenner/Cloud+Rider',\n",
       " 'https://www.lyrics.com/lyric/22843324/Paul+Kalkbrenner/Sky+and+Sand',\n",
       " 'https://www.lyrics.com/lyric/24381387/Paul+Kalkbrenner/Wir+werden+sehen',\n",
       " 'https://www.lyrics.com/lyric-lf/1132692/Paul+Kalkbrenner/Feed+Your+Head',\n",
       " 'https://www.lyrics.com/lyric-lf/2253091/Paul+Kalkbrenner/Parachute']"
      ]
     },
     "execution_count": 43,
     "metadata": {},
     "output_type": "execute_result"
    }
   ],
   "source": [
    "selected_rows_Paul= [selected_rows_1_Paul, selected_rows_2_Paul, selected_rows_3_Paul]\n",
    "new_extended_list_Paul= []\n",
    "for item in selected_rows_Paul:\n",
    "    # print(type(item))\n",
    "    # print(item.tolist())\n",
    "    # print(item.values)\n",
    "    new_extended_list_Paul.extend(item.tolist())\n",
    "new_extended_list_Paul"
   ]
  },
  {
   "cell_type": "code",
   "execution_count": 44,
   "id": "f567d4c0",
   "metadata": {},
   "outputs": [
    {
     "name": "stdout",
     "output_type": "stream",
     "text": [
      "['0_Cloud_Rider.txt', '1_Sky_and_Sand.txt', '2_Wir_werden_sehen.txt', '3_Feed_Your_Head.txt', '4_Parachute.txt']\n"
     ]
    }
   ],
   "source": [
    "file_names_2 = []\n",
    "for idx, dow in enumerate(new_extended_list_Paul):\n",
    "    index = idx\n",
    "    link = dow\n",
    "    response_link= requests.get(link).text\n",
    "    soup= BeautifulSoup(markup=response_link, features= \"html.parser\")\n",
    "    lyrics = soup.find(name='pre').get_text()\n",
    "    title= soup.find(name='h1', attrs={'id': 'lyric-title-text'}).get_text()\n",
    "    file= f\"{idx}_{title}.txt\".replace(' ', '_')\n",
    "    with open(file, mode=\"w\") as file_out:\n",
    "        file_out.write(lyrics)\n",
    "    file_names_2.append(file)\n",
    "    time.sleep(3)\n",
    "\n",
    "print(file_names_2)"
   ]
  },
  {
   "cell_type": "code",
   "execution_count": 45,
   "id": "4f91c47b",
   "metadata": {},
   "outputs": [],
   "source": [
    "# file_names_2 = []\n",
    "# for idx, dow in enumerate(new_extended_list_Paul):\n",
    "#     index = idx\n",
    "#     link = dow\n",
    "#     response_link= requests.get(link).text\n",
    "#     soup= BeautifulSoup(markup=response_link, features= \"html.parser\")\n",
    "#     pre_tag=soup.find(name='pre', attrs={'id': 'lyric-body-text'})\n",
    "#     title_tag=soup.find(name='h1', attrs={'id': 'lyric-title-text'})\n",
    "#     if pre_tag != None and title_tag !=None:\n",
    "#         lyrics = pre_tag.get_text()\n",
    "#         title= title_tag.get_text()\n",
    "#         file= f\"{idx}_{title}.txt\".replace(' ', '_')\n",
    "#         with open(file, mode=\"w\") as file_out:\n",
    "#             file_out.write(lyrics)\n",
    "#         file_names_2.append(file)\n",
    "#         time.sleep(3)\n",
    "\n",
    "# print(file_names_2)"
   ]
  },
  {
   "cell_type": "markdown",
   "id": "858d764e",
   "metadata": {},
   "source": [
    "### Bag of Words and TF-TDF"
   ]
  },
  {
   "cell_type": "code",
   "execution_count": 46,
   "id": "f3263d22",
   "metadata": {},
   "outputs": [
    {
     "data": {
      "text/plain": [
       "['0_Changing_Face.txt',\n",
       " '1_Back_Home.txt',\n",
       " '2_Little_By_Little.txt',\n",
       " '3_Facing_the_Sun.txt',\n",
       " '4_Right_In_the_Dark.txt']"
      ]
     },
     "execution_count": 46,
     "metadata": {},
     "output_type": "execute_result"
    }
   ],
   "source": [
    "file_names"
   ]
  },
  {
   "cell_type": "code",
   "execution_count": 47,
   "id": "c7642f1d",
   "metadata": {},
   "outputs": [
    {
     "data": {
      "text/plain": [
       "['0_Cloud_Rider.txt',\n",
       " '1_Sky_and_Sand.txt',\n",
       " '2_Wir_werden_sehen.txt',\n",
       " '3_Feed_Your_Head.txt',\n",
       " '4_Parachute.txt']"
      ]
     },
     "execution_count": 47,
     "metadata": {},
     "output_type": "execute_result"
    }
   ],
   "source": [
    "file_names_2"
   ]
  },
  {
   "cell_type": "code",
   "execution_count": 48,
   "id": "63ac1f28",
   "metadata": {},
   "outputs": [
    {
     "name": "stdout",
     "output_type": "stream",
     "text": [
      "['the changing face of the earth  tides washing away  all kinds of pain  and ever lasting way  with no space to be hurt   and nothing to say   not willing to bare some pain  how do we maintain     when everyone we know   and every living thing  eventually grows old  but where does it begin  and everyone we know  thinks that we begin  eventually will go  surely it will end    the changing face of the earth  tides washing away  all kinds of pain  an ever lasting pain  with no face to be hurt   and nothing to say   not willing to bare some pain  how do we maintain     when everyone we know   and every living thing  eventually grows old  but where does it begin  and everyone we know  thinks that we begin  eventually will go  surely it will end    when everyone we know   and every living thing  eventually grows old  but where does it begin  and everyone we love  thinks that we begin  eventually will go  surely it will end  the changing face of the earth', \"So the sea has gone to take me  Maybe now I'd fell it fall  I tell myself I won't get astray  I believe it's going be hard  So I look across the mane  To a point far out of sight  Over me comes the rain  And I be gone  But then a night    I'm looking for ways over water  I'm looking for ways to go  I'm looking for ways over water  I'm looking for ways back home    I'm looking for ways over water  I'm looking for ways to go  I'm looking for ways over water  I'm looking for ways back home    I ain't afraid of leaving  And all those things I left behind  Most of them ain't meant to last  None of them ain't even mine  Too tired of marking time  Giving too much away  Not a single dime is left  So I'm calling better days    I'm looking for ways over water  I'm looking for ways to go  I'm looking for ways over water  I'm looking for ways back home    I'm looking for ways over water  I'm looking for ways to go  I'm looking for ways over water  I'm looking for ways back home    I'm looking for ways over water  I'm looking for ways to go  I'm looking for ways over water  I'm looking for ways back home    I'm looking for ways over water  I'm looking for ways to go  I'm looking for ways over water  I'm looking for ways back home\", \"None of these things make sense in my mind  I've been hunting hallow and I get off too far from the light  Even when life is getting too rough  I can't help myself   I just can't get enough    Little by little, I'm losing my side  Little by little, I'm falling behind  Little by little, I'm slipping out of line  Little by little, I'm reclaiming what's mine    A bound has been the ways I went  But it all caused love ain't heaven sent  And sorrow sell, my favorite waste of time  And I keep on going, but don't know what to find    Little by little, I'm losing my side  Little by little, I'm falling behind  Little by little, I'm slipping out of line  Little by little, I'm reclaiming what's mine    Little by little, I'm losing my side  Little by little, I'm falling behind  Little by little, I'm slipping out of line  Little by little, I'm reclaiming what's mine\", \"We be facing the sun  Waiting for these things to come  We smiling high  Watching the good things passing by  Pretend to feeling fine  But inside we're crying sometimes  It ain't what it seems  Nothing but a dream    And the faces get a void  And the lines get to thin  And the roads become uneven  So we don't know where've we been  And those who doubt us  Will soon believe  We were never supposed to win  Or even to achieve    We be facing the sun  Waiting for these things to come  We smiling high  Watching the good things passing by  Pretend to feeling fine  But inside we crying sometimes  It ain't what it seems  Nothing but a dream    And the faces get a void  And the lines get too thin  And the roads become uneven  So we don't know where've we been  And those who doubt us  Will soon believe  We were never supposed to win  Or even to achieve\", \"Another day in a different world  Hard to believe that this is real  I dance and sing instead of walk and talk  Knowing that the time will heal  And I changed my view from all angles  Ain't afraid of no one's eyes  Maybe we should, maybe we don't  Maybe we're giving this a try    Won't you come with me, right in the dark  Won't you come with me, right to the start  Won't you come with me, right in the night  Won't you come with me, and shine a light    Can't tell how we came so far  Or where we went wrong  I'm searching for your sight  But your eyes won't hold me on  And you're trying to tell  What I can't understand  We kept on walking I unlearned to talking  And finally face the end    Won't you come with me, right in the dark  Won't you come with me, right to the start  Won't you come with me, right in the night  Won't you come with me, and shine a light    It's been a couple seasons since we've seen each other  Maybe less, maybe more  It's been a long time hitting the long road  Where it rains and where it pours  Back in the spot that we used to be  Laughing sinners all around  Look at me, give me your hand  And burn that city to the ground    Won't you come with me, right in the dark  Won't you come with me, right to the start  Won't you come with me, right in the night  Won't you come with me, and shine a light\"]\n"
     ]
    }
   ],
   "source": [
    "corpus_Fritz = []\n",
    "for file in file_names:\n",
    "    with open(file, 'r') as f:\n",
    "        corpus_Fritz.append(f.read().replace(\"\\n\", \" \"))\n",
    "\n",
    "print(corpus_Fritz)"
   ]
  },
  {
   "cell_type": "code",
   "execution_count": 49,
   "id": "bb660879",
   "metadata": {},
   "outputs": [
    {
     "data": {
      "text/plain": [
       "5"
      ]
     },
     "execution_count": 49,
     "metadata": {},
     "output_type": "execute_result"
    }
   ],
   "source": [
    "len(corpus_Fritz)"
   ]
  },
  {
   "cell_type": "code",
   "execution_count": 50,
   "id": "1f5f4b0e",
   "metadata": {},
   "outputs": [
    {
     "name": "stdout",
     "output_type": "stream",
     "text": [
      "[\"Bustin' up on a cloud, shout out loud  You're the one for me  With your love by my side  The world will be mine  You're the one for me    Bustin' up o...\", \"In the nighttime  When the world is at it's rest  You will find me  In the place I know the best  Dancin', shoutin'  Flyin' to the moon  Don't have to worry  'Cause I'll be come back soon    And we build up castles  In the sky and in the sand  Design our own world  Ain't nobody understand  I found myself alive  In the palm of your hand  As long as we are flyin'  All this world ain't got no end    In the daytime  You wil find me by your side  Tryin' to do my best  And tryin' to make things right  When it all turns wrong  There's no fault but mine  But it won't hit hard  'Cause you let me shine    And we build up castles  In the sky and in the sand  Design our own world  Ain't nobody understand  I found myself alive  In the palm of your hand  As long as we are flyin'  All this world ain't got no end\", \"Feuer ist mein Haar  Und deine Hand ist Kerosin  Die Atmosphäre glüht  Hey Mann, lass uns gehen  Ich zeig' dir, wie ich tanz'  Und deine Augen spielen Musik  Guck mich nicht so an, Mann  Komm, lass uns gehen    Wir werden sehen, wir werden sehen  Wo wir heut landen  Die Nacht ist noch lange nich' um  Wir werden sehen, wir werden sehen  Wie der Boden bebt  Dort, wo wir runterkommen    Wir werden sehen, wir werden sehen  Wo wir heut landen  Die Welt hält bestimmt für uns an  Wir werden sehen, wir werden sehen  Nach der nächsten Kurve  Junge, was kommt dann?    Feuer, das bin ich  Du bist Super und Benzin  Wenn wir zusammen brennen  Wird der Ofen nie mehr ausgehen  Tank mal voll  Die Karre will jetzt endlich los  Wir steigen ein und heben ab  Junge, jetzt geht's los     Wir werden sehen, wir werden sehen  Wo wir heut landen  Die Nacht ist noch lange nich' um  Wir werden sehen, wir werden sehen  Wie der Boden bebt  Dort, wo wir runterkommen     Wir werden sehen, wir werden sehen  Wo wir heut landen  Die Welt hält bestimmt für uns an  Wir werden sehen, wir werden sehen  Wie die Wellen kommen unter'm Ozean     Flammen werfen wir  Bis zum Meer  Dieses Feuerwerk  Will keine Feuerwehr     Wir werden sehen, wir werden sehen  Wo wir heut landen  Die Nacht ist noch lange nich' um  Wir werden sehen  Wie der Boden bebt  Dort, wo wir runterkommen     Wir werden sehen, wir werden sehen  Wo wir heut landen  Die Welt hält bestimmt für uns an  Wir werden sehen, wir werden sehen  Nach der nächsten Kurve  Junge, was kommt dann?\", \"One pill makes you larger And one pill makes you small And the ones that mother gives you Don't do anything at all Go ask Alice When she's ten feet tall  Go ask Alice I think she'll know  Remember what the dormouse said Feed your head  Feed your head  And if you go chasing rabbits And you know you're going to fall Tell 'em a hookah-smoking caterpillar Has given you the call Call Alice When she was just small  Go ask Alice I think she'll know  Remember what the dormouse said Feed your head  Feed your head\", \"With the wind blowing in your face And the world below Free falling back to earth Like leafs of gold  When you're reaching out for love And it's getting cold Free falling back to earth Like flakes of snow  Oh I will be your parachute I'll always cover you And we'll rise above the darkest skies I know you guide us through  When have all the things we've fallen for I'd rather fly with you Oh I will be your parachute I'll always, I'll always cover you  So you thought that you would jump To see what I would do Free falling back to earth I'll follow you  See you walking down the path Of me I never knew Ascend to beautiful life Of all that's true  Oh I will be your parachute I'll always cover you And we'll rise above the darkest skies I know you guide us through  When of all the things we're falling for I'll rather fly with you Oh I will be your parachute I'll always, I'll always cover you  I'll always cover you\"]\n"
     ]
    }
   ],
   "source": [
    "corpus_Paul = []\n",
    "for file in file_names_2:\n",
    "    with open(file, 'r') as f:\n",
    "        corpus_Paul.append(f.read().replace(\"\\n\", \" \"))\n",
    "\n",
    "print(corpus_Paul)"
   ]
  },
  {
   "cell_type": "code",
   "execution_count": 51,
   "id": "e8e78cff",
   "metadata": {},
   "outputs": [
    {
     "data": {
      "text/plain": [
       "5"
      ]
     },
     "execution_count": 51,
     "metadata": {},
     "output_type": "execute_result"
    }
   ],
   "source": [
    "len(corpus_Paul)"
   ]
  },
  {
   "cell_type": "code",
   "execution_count": 52,
   "id": "9d4c2280",
   "metadata": {},
   "outputs": [],
   "source": [
    "CORPUS= corpus_Fritz + corpus_Paul"
   ]
  },
  {
   "cell_type": "code",
   "execution_count": 53,
   "id": "8bf370ad",
   "metadata": {},
   "outputs": [
    {
     "data": {
      "text/plain": [
       "['Fritz',\n",
       " 'Fritz',\n",
       " 'Fritz',\n",
       " 'Fritz',\n",
       " 'Fritz',\n",
       " 'Paul',\n",
       " 'Paul',\n",
       " 'Paul',\n",
       " 'Paul',\n",
       " 'Paul']"
      ]
     },
     "execution_count": 53,
     "metadata": {},
     "output_type": "execute_result"
    }
   ],
   "source": [
    "LABELS = ['Fritz'] * len(corpus_Fritz) + ['Paul'] * len(corpus_Paul)\n",
    "LABELS"
   ]
  },
  {
   "cell_type": "code",
   "execution_count": 54,
   "id": "a4fb79be",
   "metadata": {},
   "outputs": [
    {
     "data": {
      "text/html": [
       "<div>\n",
       "<style scoped>\n",
       "    .dataframe tbody tr th:only-of-type {\n",
       "        vertical-align: middle;\n",
       "    }\n",
       "\n",
       "    .dataframe tbody tr th {\n",
       "        vertical-align: top;\n",
       "    }\n",
       "\n",
       "    .dataframe thead th {\n",
       "        text-align: right;\n",
       "    }\n",
       "</style>\n",
       "<table border=\"1\" class=\"dataframe\">\n",
       "  <thead>\n",
       "    <tr style=\"text-align: right;\">\n",
       "      <th></th>\n",
       "      <th>lyrics</th>\n",
       "    </tr>\n",
       "  </thead>\n",
       "  <tbody>\n",
       "    <tr>\n",
       "      <th>Fritz</th>\n",
       "      <td>the changing face of the earth  tides washing ...</td>\n",
       "    </tr>\n",
       "    <tr>\n",
       "      <th>Fritz</th>\n",
       "      <td>So the sea has gone to take me  Maybe now I'd ...</td>\n",
       "    </tr>\n",
       "    <tr>\n",
       "      <th>Fritz</th>\n",
       "      <td>None of these things make sense in my mind  I'...</td>\n",
       "    </tr>\n",
       "    <tr>\n",
       "      <th>Fritz</th>\n",
       "      <td>We be facing the sun  Waiting for these things...</td>\n",
       "    </tr>\n",
       "    <tr>\n",
       "      <th>Fritz</th>\n",
       "      <td>Another day in a different world  Hard to beli...</td>\n",
       "    </tr>\n",
       "    <tr>\n",
       "      <th>Paul</th>\n",
       "      <td>Bustin' up on a cloud, shout out loud  You're ...</td>\n",
       "    </tr>\n",
       "    <tr>\n",
       "      <th>Paul</th>\n",
       "      <td>In the nighttime  When the world is at it's re...</td>\n",
       "    </tr>\n",
       "    <tr>\n",
       "      <th>Paul</th>\n",
       "      <td>Feuer ist mein Haar  Und deine Hand ist Kerosi...</td>\n",
       "    </tr>\n",
       "    <tr>\n",
       "      <th>Paul</th>\n",
       "      <td>One pill makes you larger And one pill makes y...</td>\n",
       "    </tr>\n",
       "    <tr>\n",
       "      <th>Paul</th>\n",
       "      <td>With the wind blowing in your face And the wor...</td>\n",
       "    </tr>\n",
       "  </tbody>\n",
       "</table>\n",
       "</div>"
      ],
      "text/plain": [
       "                                                  lyrics\n",
       "Fritz  the changing face of the earth  tides washing ...\n",
       "Fritz  So the sea has gone to take me  Maybe now I'd ...\n",
       "Fritz  None of these things make sense in my mind  I'...\n",
       "Fritz  We be facing the sun  Waiting for these things...\n",
       "Fritz  Another day in a different world  Hard to beli...\n",
       "Paul   Bustin' up on a cloud, shout out loud  You're ...\n",
       "Paul   In the nighttime  When the world is at it's re...\n",
       "Paul   Feuer ist mein Haar  Und deine Hand ist Kerosi...\n",
       "Paul   One pill makes you larger And one pill makes y...\n",
       "Paul   With the wind blowing in your face And the wor..."
      ]
     },
     "execution_count": 54,
     "metadata": {},
     "output_type": "execute_result"
    }
   ],
   "source": [
    "df_lyrics = pd.DataFrame(CORPUS, index=LABELS, columns=['lyrics'])\n",
    "df_lyrics"
   ]
  },
  {
   "cell_type": "code",
   "execution_count": 55,
   "id": "8e27e601",
   "metadata": {},
   "outputs": [],
   "source": [
    "X = df_lyrics['lyrics']\n",
    "y = df_lyrics.index"
   ]
  },
  {
   "cell_type": "code",
   "execution_count": 56,
   "id": "c3f8d998",
   "metadata": {},
   "outputs": [
    {
     "data": {
      "text/plain": [
       "Fritz    the changing face of the earth  tides washing ...\n",
       "Fritz    So the sea has gone to take me  Maybe now I'd ...\n",
       "Fritz    None of these things make sense in my mind  I'...\n",
       "Fritz    We be facing the sun  Waiting for these things...\n",
       "Fritz    Another day in a different world  Hard to beli...\n",
       "Paul     Bustin' up on a cloud, shout out loud  You're ...\n",
       "Paul     In the nighttime  When the world is at it's re...\n",
       "Paul     Feuer ist mein Haar  Und deine Hand ist Kerosi...\n",
       "Paul     One pill makes you larger And one pill makes y...\n",
       "Paul     With the wind blowing in your face And the wor...\n",
       "Name: lyrics, dtype: object"
      ]
     },
     "execution_count": 56,
     "metadata": {},
     "output_type": "execute_result"
    }
   ],
   "source": [
    "X"
   ]
  },
  {
   "cell_type": "code",
   "execution_count": 57,
   "id": "1593a3d3",
   "metadata": {},
   "outputs": [
    {
     "data": {
      "text/plain": [
       "Index(['Fritz', 'Fritz', 'Fritz', 'Fritz', 'Fritz', 'Paul', 'Paul', 'Paul',\n",
       "       'Paul', 'Paul'],\n",
       "      dtype='object')"
      ]
     },
     "execution_count": 57,
     "metadata": {},
     "output_type": "execute_result"
    }
   ],
   "source": [
    "y"
   ]
  },
  {
   "cell_type": "markdown",
   "id": "555e8232",
   "metadata": {},
   "source": [
    "### Step 2. Vectorize the text input using the \"Bag of Words\" technique."
   ]
  },
  {
   "cell_type": "code",
   "execution_count": 58,
   "id": "71b1aa82",
   "metadata": {},
   "outputs": [],
   "source": [
    "cv = CountVectorizer(stop_words='english',ngram_range=(1,1))"
   ]
  },
  {
   "cell_type": "code",
   "execution_count": 59,
   "id": "d80b07e4",
   "metadata": {},
   "outputs": [],
   "source": [
    "# cv = CountVectorizer(stop_words='english',ngram_range=(1,1), min_df=1)"
   ]
  },
  {
   "cell_type": "code",
   "execution_count": 60,
   "id": "bf0b4818",
   "metadata": {},
   "outputs": [],
   "source": [
    "X_tran = cv.fit_transform(X)"
   ]
  },
  {
   "cell_type": "code",
   "execution_count": 61,
   "id": "721c94d6",
   "metadata": {},
   "outputs": [
    {
     "data": {
      "text/plain": [
       "(10, 339)"
      ]
     },
     "execution_count": 61,
     "metadata": {},
     "output_type": "execute_result"
    }
   ],
   "source": [
    "X_tran.shape"
   ]
  },
  {
   "cell_type": "code",
   "execution_count": 62,
   "id": "bb105f43",
   "metadata": {},
   "outputs": [
    {
     "name": "stdout",
     "output_type": "stream",
     "text": [
      "  (0, 40)\t3\n",
      "  (0, 81)\t4\n",
      "  (0, 74)\t3\n",
      "  (0, 289)\t2\n",
      "  (0, 312)\t2\n",
      "  (0, 13)\t2\n",
      "  (0, 154)\t2\n",
      "  (0, 218)\t5\n",
      "  (0, 166)\t2\n",
      "  (0, 316)\t1\n",
      "  (0, 269)\t1\n",
      "  (0, 140)\t2\n",
      "  (0, 244)\t2\n",
      "  (0, 326)\t2\n",
      "  (0, 14)\t2\n",
      "  (0, 187)\t2\n",
      "  (0, 156)\t5\n",
      "  (0, 178)\t3\n",
      "  (0, 284)\t3\n",
      "  (0, 79)\t6\n",
      "  (0, 119)\t3\n",
      "  (0, 215)\t3\n",
      "  (0, 67)\t3\n",
      "  (0, 17)\t6\n",
      "  (0, 287)\t3\n",
      "  :\t:\n",
      "  (9, 104)\t3\n",
      "  (9, 174)\t2\n",
      "  (9, 168)\t1\n",
      "  (9, 114)\t1\n",
      "  (9, 231)\t1\n",
      "  (9, 44)\t1\n",
      "  (9, 99)\t1\n",
      "  (9, 266)\t1\n",
      "  (9, 214)\t4\n",
      "  (9, 220)\t4\n",
      "  (9, 48)\t5\n",
      "  (9, 237)\t2\n",
      "  (9, 54)\t2\n",
      "  (9, 260)\t2\n",
      "  (9, 121)\t2\n",
      "  (9, 85)\t1\n",
      "  (9, 101)\t2\n",
      "  (9, 288)\t1\n",
      "  (9, 147)\t1\n",
      "  (9, 103)\t1\n",
      "  (9, 222)\t1\n",
      "  (9, 155)\t1\n",
      "  (9, 7)\t1\n",
      "  (9, 15)\t1\n",
      "  (9, 292)\t1\n"
     ]
    }
   ],
   "source": [
    "print(X_tran)"
   ]
  },
  {
   "cell_type": "code",
   "execution_count": 63,
   "id": "da85fddb",
   "metadata": {},
   "outputs": [
    {
     "data": {
      "text/plain": [
       "matrix([[0, 0, 0, ..., 0, 0, 0],\n",
       "        [0, 0, 1, ..., 0, 0, 0],\n",
       "        [0, 0, 0, ..., 0, 0, 0],\n",
       "        ...,\n",
       "        [1, 0, 0, ..., 1, 1, 1],\n",
       "        [0, 0, 0, ..., 0, 0, 0],\n",
       "        [0, 0, 0, ..., 0, 0, 0]], dtype=int64)"
      ]
     },
     "execution_count": 63,
     "metadata": {},
     "output_type": "execute_result"
    }
   ],
   "source": [
    "X_tran.todense()"
   ]
  },
  {
   "cell_type": "code",
   "execution_count": 64,
   "id": "60c7dad2",
   "metadata": {},
   "outputs": [
    {
     "data": {
      "text/plain": [
       "array(['ab', 'achieve', 'afraid', 'ain', 'alice', 'alive', 'angles',\n",
       "       'ascend', 'ask', 'astray', 'atmosphäre', 'augen', 'ausgehen',\n",
       "       'away', 'bare', 'beautiful', 'bebt', 'begin', 'believe', 'benzin',\n",
       "       'best', 'bestimmt', 'better', 'bin', 'bis', 'bist', 'blowing',\n",
       "       'boden', 'bound', 'brennen', 'build', 'burn', 'bustin', 'calling',\n",
       "       'came', 'castles', 'caterpillar', 'cause', 'caused', 'changed',\n",
       "       'changing', 'chasing', 'city', 'cloud', 'cold', 'come', 'comes',\n",
       "       'couple', 'cover', 'crying', 'dance', 'dancin', 'dann', 'dark',\n",
       "       'darkest', 'das', 'day', 'days', 'daytime', 'deine', 'der',\n",
       "       'design', 'die', 'dieses', 'different', 'dime', 'dir', 'does',\n",
       "       'don', 'dormouse', 'dort', 'doubt', 'dream', 'du', 'earth', 'ein',\n",
       "       'em', 'end', 'endlich', 'eventually', 'eyes', 'face', 'faces',\n",
       "       'facing', 'fall', 'fallen', 'falling', 'far', 'fault', 'favorite',\n",
       "       'feed', 'feeling', 'feet', 'fell', 'feuer', 'feuerwehr',\n",
       "       'feuerwerk', 'finally', 'fine', 'flakes', 'flammen', 'fly',\n",
       "       'flyin', 'follow', 'free', 'für', 'gehen', 'geht', 'getting',\n",
       "       'given', 'gives', 'giving', 'glüht', 'going', 'gold', 'gone',\n",
       "       'good', 'got', 'ground', 'grows', 'guck', 'guide', 'haar',\n",
       "       'hallow', 'hand', 'hard', 'head', 'heal', 'heaven', 'heben',\n",
       "       'help', 'heut', 'hey', 'high', 'hit', 'hitting', 'hold', 'home',\n",
       "       'hookah', 'hunting', 'hurt', 'hält', 'ich', 'inside', 'instead',\n",
       "       'ist', 'jetzt', 'jump', 'junge', 'just', 'karre', 'keine', 'kept',\n",
       "       'kerosin', 'kinds', 'knew', 'know', 'knowing', 'komm', 'kommen',\n",
       "       'kommt', 'kurve', 'landen', 'lange', 'larger', 'lass', 'lasting',\n",
       "       'laughing', 'leafs', 'leaving', 'left', 'let', 'life', 'light',\n",
       "       'like', 'line', 'lines', 'little', 'living', 'll', 'long', 'look',\n",
       "       'looking', 'los', 'losing', 'loud', 'love', 'maintain', 'make',\n",
       "       'makes', 'mal', 'mane', 'mann', 'marking', 'maybe', 'meant',\n",
       "       'meer', 'mehr', 'mein', 'mich', 'mind', 'moon', 'mother', 'musik',\n",
       "       'nach', 'nacht', 'nich', 'nicht', 'nie', 'night', 'nighttime',\n",
       "       'noch', 'nächsten', 'ofen', 'oh', 'old', 'ones', 'ozean', 'pain',\n",
       "       'palm', 'parachute', 'passing', 'path', 'pill', 'place', 'point',\n",
       "       'pours', 'pretend', 'rabbits', 'rain', 'rains', 'reaching', 'real',\n",
       "       'reclaiming', 'remember', 'rest', 'right', 'rise', 'road', 'roads',\n",
       "       'rough', 'runterkommen', 'said', 'sand', 'say', 'sea', 'searching',\n",
       "       'seasons', 'seen', 'sehen', 'sell', 'sense', 'sent', 'shine',\n",
       "       'shout', 'shoutin', 'sight', 'sing', 'single', 'sinners', 'skies',\n",
       "       'sky', 'slipping', 'small', 'smiling', 'smoking', 'snow', 'soon',\n",
       "       'sorrow', 'space', 'spielen', 'spot', 'start', 'steigen', 'sun',\n",
       "       'super', 'supposed', 'surely', 'talk', 'talking', 'tall', 'tank',\n",
       "       'tanz', 'tell', 'thing', 'things', 'think', 'thinks', 'thought',\n",
       "       'tides', 'time', 'tired', 'true', 'try', 'tryin', 'trying',\n",
       "       'turns', 'um', 'und', 'understand', 'uneven', 'unlearned', 'uns',\n",
       "       'unter', 'used', 've', 'view', 'void', 'voll', 'waiting', 'walk',\n",
       "       'walking', 'washing', 'waste', 'watching', 'water', 'way', 'ways',\n",
       "       'wellen', 'welt', 'wenn', 'went', 'werden', 'werfen', 'wie', 'wil',\n",
       "       'willing', 'win', 'wind', 'wir', 'wird', 'wo', 'won', 'world',\n",
       "       'worry', 'wrong', 'zeig', 'zum', 'zusammen'], dtype=object)"
      ]
     },
     "execution_count": 64,
     "metadata": {},
     "output_type": "execute_result"
    }
   ],
   "source": [
    "cv.get_feature_names_out()"
   ]
  },
  {
   "cell_type": "code",
   "execution_count": 65,
   "id": "4dd8d1bb",
   "metadata": {},
   "outputs": [
    {
     "data": {
      "text/html": [
       "<div>\n",
       "<style scoped>\n",
       "    .dataframe tbody tr th:only-of-type {\n",
       "        vertical-align: middle;\n",
       "    }\n",
       "\n",
       "    .dataframe tbody tr th {\n",
       "        vertical-align: top;\n",
       "    }\n",
       "\n",
       "    .dataframe thead th {\n",
       "        text-align: right;\n",
       "    }\n",
       "</style>\n",
       "<table border=\"1\" class=\"dataframe\">\n",
       "  <thead>\n",
       "    <tr style=\"text-align: right;\">\n",
       "      <th></th>\n",
       "      <th>ab</th>\n",
       "      <th>achieve</th>\n",
       "      <th>afraid</th>\n",
       "      <th>ain</th>\n",
       "      <th>alice</th>\n",
       "      <th>alive</th>\n",
       "      <th>angles</th>\n",
       "      <th>ascend</th>\n",
       "      <th>ask</th>\n",
       "      <th>astray</th>\n",
       "      <th>...</th>\n",
       "      <th>wir</th>\n",
       "      <th>wird</th>\n",
       "      <th>wo</th>\n",
       "      <th>won</th>\n",
       "      <th>world</th>\n",
       "      <th>worry</th>\n",
       "      <th>wrong</th>\n",
       "      <th>zeig</th>\n",
       "      <th>zum</th>\n",
       "      <th>zusammen</th>\n",
       "    </tr>\n",
       "  </thead>\n",
       "  <tbody>\n",
       "    <tr>\n",
       "      <th>Fritz</th>\n",
       "      <td>0</td>\n",
       "      <td>0</td>\n",
       "      <td>0</td>\n",
       "      <td>0</td>\n",
       "      <td>0</td>\n",
       "      <td>0</td>\n",
       "      <td>0</td>\n",
       "      <td>0</td>\n",
       "      <td>0</td>\n",
       "      <td>0</td>\n",
       "      <td>...</td>\n",
       "      <td>0</td>\n",
       "      <td>0</td>\n",
       "      <td>0</td>\n",
       "      <td>0</td>\n",
       "      <td>0</td>\n",
       "      <td>0</td>\n",
       "      <td>0</td>\n",
       "      <td>0</td>\n",
       "      <td>0</td>\n",
       "      <td>0</td>\n",
       "    </tr>\n",
       "    <tr>\n",
       "      <th>Fritz</th>\n",
       "      <td>0</td>\n",
       "      <td>0</td>\n",
       "      <td>1</td>\n",
       "      <td>3</td>\n",
       "      <td>0</td>\n",
       "      <td>0</td>\n",
       "      <td>0</td>\n",
       "      <td>0</td>\n",
       "      <td>0</td>\n",
       "      <td>1</td>\n",
       "      <td>...</td>\n",
       "      <td>0</td>\n",
       "      <td>0</td>\n",
       "      <td>0</td>\n",
       "      <td>1</td>\n",
       "      <td>0</td>\n",
       "      <td>0</td>\n",
       "      <td>0</td>\n",
       "      <td>0</td>\n",
       "      <td>0</td>\n",
       "      <td>0</td>\n",
       "    </tr>\n",
       "    <tr>\n",
       "      <th>Fritz</th>\n",
       "      <td>0</td>\n",
       "      <td>0</td>\n",
       "      <td>0</td>\n",
       "      <td>1</td>\n",
       "      <td>0</td>\n",
       "      <td>0</td>\n",
       "      <td>0</td>\n",
       "      <td>0</td>\n",
       "      <td>0</td>\n",
       "      <td>0</td>\n",
       "      <td>...</td>\n",
       "      <td>0</td>\n",
       "      <td>0</td>\n",
       "      <td>0</td>\n",
       "      <td>0</td>\n",
       "      <td>0</td>\n",
       "      <td>0</td>\n",
       "      <td>0</td>\n",
       "      <td>0</td>\n",
       "      <td>0</td>\n",
       "      <td>0</td>\n",
       "    </tr>\n",
       "    <tr>\n",
       "      <th>Fritz</th>\n",
       "      <td>0</td>\n",
       "      <td>2</td>\n",
       "      <td>0</td>\n",
       "      <td>2</td>\n",
       "      <td>0</td>\n",
       "      <td>0</td>\n",
       "      <td>0</td>\n",
       "      <td>0</td>\n",
       "      <td>0</td>\n",
       "      <td>0</td>\n",
       "      <td>...</td>\n",
       "      <td>0</td>\n",
       "      <td>0</td>\n",
       "      <td>0</td>\n",
       "      <td>0</td>\n",
       "      <td>0</td>\n",
       "      <td>0</td>\n",
       "      <td>0</td>\n",
       "      <td>0</td>\n",
       "      <td>0</td>\n",
       "      <td>0</td>\n",
       "    </tr>\n",
       "    <tr>\n",
       "      <th>Fritz</th>\n",
       "      <td>0</td>\n",
       "      <td>0</td>\n",
       "      <td>1</td>\n",
       "      <td>1</td>\n",
       "      <td>0</td>\n",
       "      <td>0</td>\n",
       "      <td>1</td>\n",
       "      <td>0</td>\n",
       "      <td>0</td>\n",
       "      <td>0</td>\n",
       "      <td>...</td>\n",
       "      <td>0</td>\n",
       "      <td>0</td>\n",
       "      <td>0</td>\n",
       "      <td>13</td>\n",
       "      <td>1</td>\n",
       "      <td>0</td>\n",
       "      <td>1</td>\n",
       "      <td>0</td>\n",
       "      <td>0</td>\n",
       "      <td>0</td>\n",
       "    </tr>\n",
       "    <tr>\n",
       "      <th>Paul</th>\n",
       "      <td>0</td>\n",
       "      <td>0</td>\n",
       "      <td>0</td>\n",
       "      <td>0</td>\n",
       "      <td>0</td>\n",
       "      <td>0</td>\n",
       "      <td>0</td>\n",
       "      <td>0</td>\n",
       "      <td>0</td>\n",
       "      <td>0</td>\n",
       "      <td>...</td>\n",
       "      <td>0</td>\n",
       "      <td>0</td>\n",
       "      <td>0</td>\n",
       "      <td>0</td>\n",
       "      <td>1</td>\n",
       "      <td>0</td>\n",
       "      <td>0</td>\n",
       "      <td>0</td>\n",
       "      <td>0</td>\n",
       "      <td>0</td>\n",
       "    </tr>\n",
       "    <tr>\n",
       "      <th>Paul</th>\n",
       "      <td>0</td>\n",
       "      <td>0</td>\n",
       "      <td>0</td>\n",
       "      <td>4</td>\n",
       "      <td>0</td>\n",
       "      <td>2</td>\n",
       "      <td>0</td>\n",
       "      <td>0</td>\n",
       "      <td>0</td>\n",
       "      <td>0</td>\n",
       "      <td>...</td>\n",
       "      <td>0</td>\n",
       "      <td>0</td>\n",
       "      <td>0</td>\n",
       "      <td>1</td>\n",
       "      <td>5</td>\n",
       "      <td>1</td>\n",
       "      <td>1</td>\n",
       "      <td>0</td>\n",
       "      <td>0</td>\n",
       "      <td>0</td>\n",
       "    </tr>\n",
       "    <tr>\n",
       "      <th>Paul</th>\n",
       "      <td>1</td>\n",
       "      <td>0</td>\n",
       "      <td>0</td>\n",
       "      <td>0</td>\n",
       "      <td>0</td>\n",
       "      <td>0</td>\n",
       "      <td>0</td>\n",
       "      <td>0</td>\n",
       "      <td>0</td>\n",
       "      <td>0</td>\n",
       "      <td>...</td>\n",
       "      <td>35</td>\n",
       "      <td>1</td>\n",
       "      <td>9</td>\n",
       "      <td>0</td>\n",
       "      <td>0</td>\n",
       "      <td>0</td>\n",
       "      <td>0</td>\n",
       "      <td>1</td>\n",
       "      <td>1</td>\n",
       "      <td>1</td>\n",
       "    </tr>\n",
       "    <tr>\n",
       "      <th>Paul</th>\n",
       "      <td>0</td>\n",
       "      <td>0</td>\n",
       "      <td>0</td>\n",
       "      <td>0</td>\n",
       "      <td>4</td>\n",
       "      <td>0</td>\n",
       "      <td>0</td>\n",
       "      <td>0</td>\n",
       "      <td>3</td>\n",
       "      <td>0</td>\n",
       "      <td>...</td>\n",
       "      <td>0</td>\n",
       "      <td>0</td>\n",
       "      <td>0</td>\n",
       "      <td>0</td>\n",
       "      <td>0</td>\n",
       "      <td>0</td>\n",
       "      <td>0</td>\n",
       "      <td>0</td>\n",
       "      <td>0</td>\n",
       "      <td>0</td>\n",
       "    </tr>\n",
       "    <tr>\n",
       "      <th>Paul</th>\n",
       "      <td>0</td>\n",
       "      <td>0</td>\n",
       "      <td>0</td>\n",
       "      <td>0</td>\n",
       "      <td>0</td>\n",
       "      <td>0</td>\n",
       "      <td>0</td>\n",
       "      <td>1</td>\n",
       "      <td>0</td>\n",
       "      <td>0</td>\n",
       "      <td>...</td>\n",
       "      <td>0</td>\n",
       "      <td>0</td>\n",
       "      <td>0</td>\n",
       "      <td>0</td>\n",
       "      <td>1</td>\n",
       "      <td>0</td>\n",
       "      <td>0</td>\n",
       "      <td>0</td>\n",
       "      <td>0</td>\n",
       "      <td>0</td>\n",
       "    </tr>\n",
       "  </tbody>\n",
       "</table>\n",
       "<p>10 rows × 339 columns</p>\n",
       "</div>"
      ],
      "text/plain": [
       "       ab  achieve  afraid  ain  alice  alive  angles  ascend  ask  astray  \\\n",
       "Fritz   0        0       0    0      0      0       0       0    0       0   \n",
       "Fritz   0        0       1    3      0      0       0       0    0       1   \n",
       "Fritz   0        0       0    1      0      0       0       0    0       0   \n",
       "Fritz   0        2       0    2      0      0       0       0    0       0   \n",
       "Fritz   0        0       1    1      0      0       1       0    0       0   \n",
       "Paul    0        0       0    0      0      0       0       0    0       0   \n",
       "Paul    0        0       0    4      0      2       0       0    0       0   \n",
       "Paul    1        0       0    0      0      0       0       0    0       0   \n",
       "Paul    0        0       0    0      4      0       0       0    3       0   \n",
       "Paul    0        0       0    0      0      0       0       1    0       0   \n",
       "\n",
       "       ...  wir  wird  wo  won  world  worry  wrong  zeig  zum  zusammen  \n",
       "Fritz  ...    0     0   0    0      0      0      0     0    0         0  \n",
       "Fritz  ...    0     0   0    1      0      0      0     0    0         0  \n",
       "Fritz  ...    0     0   0    0      0      0      0     0    0         0  \n",
       "Fritz  ...    0     0   0    0      0      0      0     0    0         0  \n",
       "Fritz  ...    0     0   0   13      1      0      1     0    0         0  \n",
       "Paul   ...    0     0   0    0      1      0      0     0    0         0  \n",
       "Paul   ...    0     0   0    1      5      1      1     0    0         0  \n",
       "Paul   ...   35     1   9    0      0      0      0     1    1         1  \n",
       "Paul   ...    0     0   0    0      0      0      0     0    0         0  \n",
       "Paul   ...    0     0   0    0      1      0      0     0    0         0  \n",
       "\n",
       "[10 rows x 339 columns]"
      ]
     },
     "execution_count": 65,
     "metadata": {},
     "output_type": "execute_result"
    }
   ],
   "source": [
    "pd.DataFrame(X_tran.todense(),columns=cv.get_feature_names_out(),index=y)"
   ]
  },
  {
   "cell_type": "markdown",
   "id": "9a0d895b",
   "metadata": {},
   "source": [
    "### Step 3. Apply Tf-Idf Transformation (Normalization)"
   ]
  },
  {
   "cell_type": "code",
   "execution_count": 66,
   "id": "16d3abb2",
   "metadata": {},
   "outputs": [],
   "source": [
    "tf = TfidfTransformer()"
   ]
  },
  {
   "cell_type": "code",
   "execution_count": 67,
   "id": "e6c1484f",
   "metadata": {},
   "outputs": [],
   "source": [
    "tf_X_tran = tf.fit_transform(X_tran)"
   ]
  },
  {
   "cell_type": "code",
   "execution_count": 68,
   "id": "cd9c0e0e",
   "metadata": {},
   "outputs": [
    {
     "data": {
      "text/plain": [
       "matrix([[0.        , 0.        , 0.        , ..., 0.        , 0.        ,\n",
       "         0.        ],\n",
       "        [0.        , 0.        , 0.02444418, ..., 0.        , 0.        ,\n",
       "         0.        ],\n",
       "        [0.        , 0.        , 0.        , ..., 0.        , 0.        ,\n",
       "         0.        ],\n",
       "        ...,\n",
       "        [0.01863211, 0.        , 0.        , ..., 0.01863211, 0.01863211,\n",
       "         0.01863211],\n",
       "        [0.        , 0.        , 0.        , ..., 0.        , 0.        ,\n",
       "         0.        ],\n",
       "        [0.        , 0.        , 0.        , ..., 0.        , 0.        ,\n",
       "         0.        ]])"
      ]
     },
     "execution_count": 68,
     "metadata": {},
     "output_type": "execute_result"
    }
   ],
   "source": [
    "tf_X_tran.todense()"
   ]
  },
  {
   "cell_type": "code",
   "execution_count": 69,
   "id": "b89d14af",
   "metadata": {},
   "outputs": [
    {
     "data": {
      "text/html": [
       "<div>\n",
       "<style scoped>\n",
       "    .dataframe tbody tr th:only-of-type {\n",
       "        vertical-align: middle;\n",
       "    }\n",
       "\n",
       "    .dataframe tbody tr th {\n",
       "        vertical-align: top;\n",
       "    }\n",
       "\n",
       "    .dataframe thead th {\n",
       "        text-align: right;\n",
       "    }\n",
       "</style>\n",
       "<table border=\"1\" class=\"dataframe\">\n",
       "  <thead>\n",
       "    <tr style=\"text-align: right;\">\n",
       "      <th></th>\n",
       "      <th>ab</th>\n",
       "      <th>achieve</th>\n",
       "      <th>afraid</th>\n",
       "      <th>ain</th>\n",
       "      <th>alice</th>\n",
       "      <th>alive</th>\n",
       "      <th>angles</th>\n",
       "      <th>ascend</th>\n",
       "      <th>ask</th>\n",
       "      <th>astray</th>\n",
       "      <th>...</th>\n",
       "      <th>wir</th>\n",
       "      <th>wird</th>\n",
       "      <th>wo</th>\n",
       "      <th>won</th>\n",
       "      <th>world</th>\n",
       "      <th>worry</th>\n",
       "      <th>wrong</th>\n",
       "      <th>zeig</th>\n",
       "      <th>zum</th>\n",
       "      <th>zusammen</th>\n",
       "    </tr>\n",
       "  </thead>\n",
       "  <tbody>\n",
       "    <tr>\n",
       "      <th>Fritz</th>\n",
       "      <td>0.000000</td>\n",
       "      <td>0.000000</td>\n",
       "      <td>0.000000</td>\n",
       "      <td>0.000000</td>\n",
       "      <td>0.000000</td>\n",
       "      <td>0.000000</td>\n",
       "      <td>0.00000</td>\n",
       "      <td>0.000000</td>\n",
       "      <td>0.000000</td>\n",
       "      <td>0.000000</td>\n",
       "      <td>...</td>\n",
       "      <td>0.000000</td>\n",
       "      <td>0.000000</td>\n",
       "      <td>0.000000</td>\n",
       "      <td>0.000000</td>\n",
       "      <td>0.000000</td>\n",
       "      <td>0.000000</td>\n",
       "      <td>0.000000</td>\n",
       "      <td>0.000000</td>\n",
       "      <td>0.000000</td>\n",
       "      <td>0.000000</td>\n",
       "    </tr>\n",
       "    <tr>\n",
       "      <th>Fritz</th>\n",
       "      <td>0.000000</td>\n",
       "      <td>0.000000</td>\n",
       "      <td>0.024444</td>\n",
       "      <td>0.051226</td>\n",
       "      <td>0.000000</td>\n",
       "      <td>0.000000</td>\n",
       "      <td>0.00000</td>\n",
       "      <td>0.000000</td>\n",
       "      <td>0.000000</td>\n",
       "      <td>0.028755</td>\n",
       "      <td>...</td>\n",
       "      <td>0.000000</td>\n",
       "      <td>0.000000</td>\n",
       "      <td>0.000000</td>\n",
       "      <td>0.021386</td>\n",
       "      <td>0.000000</td>\n",
       "      <td>0.000000</td>\n",
       "      <td>0.000000</td>\n",
       "      <td>0.000000</td>\n",
       "      <td>0.000000</td>\n",
       "      <td>0.000000</td>\n",
       "    </tr>\n",
       "    <tr>\n",
       "      <th>Fritz</th>\n",
       "      <td>0.000000</td>\n",
       "      <td>0.000000</td>\n",
       "      <td>0.000000</td>\n",
       "      <td>0.023446</td>\n",
       "      <td>0.000000</td>\n",
       "      <td>0.000000</td>\n",
       "      <td>0.00000</td>\n",
       "      <td>0.000000</td>\n",
       "      <td>0.000000</td>\n",
       "      <td>0.000000</td>\n",
       "      <td>...</td>\n",
       "      <td>0.000000</td>\n",
       "      <td>0.000000</td>\n",
       "      <td>0.000000</td>\n",
       "      <td>0.000000</td>\n",
       "      <td>0.000000</td>\n",
       "      <td>0.000000</td>\n",
       "      <td>0.000000</td>\n",
       "      <td>0.000000</td>\n",
       "      <td>0.000000</td>\n",
       "      <td>0.000000</td>\n",
       "    </tr>\n",
       "    <tr>\n",
       "      <th>Fritz</th>\n",
       "      <td>0.000000</td>\n",
       "      <td>0.190106</td>\n",
       "      <td>0.000000</td>\n",
       "      <td>0.112889</td>\n",
       "      <td>0.000000</td>\n",
       "      <td>0.000000</td>\n",
       "      <td>0.00000</td>\n",
       "      <td>0.000000</td>\n",
       "      <td>0.000000</td>\n",
       "      <td>0.000000</td>\n",
       "      <td>...</td>\n",
       "      <td>0.000000</td>\n",
       "      <td>0.000000</td>\n",
       "      <td>0.000000</td>\n",
       "      <td>0.000000</td>\n",
       "      <td>0.000000</td>\n",
       "      <td>0.000000</td>\n",
       "      <td>0.000000</td>\n",
       "      <td>0.000000</td>\n",
       "      <td>0.000000</td>\n",
       "      <td>0.000000</td>\n",
       "    </tr>\n",
       "    <tr>\n",
       "      <th>Fritz</th>\n",
       "      <td>0.000000</td>\n",
       "      <td>0.000000</td>\n",
       "      <td>0.045752</td>\n",
       "      <td>0.031959</td>\n",
       "      <td>0.000000</td>\n",
       "      <td>0.000000</td>\n",
       "      <td>0.05382</td>\n",
       "      <td>0.000000</td>\n",
       "      <td>0.000000</td>\n",
       "      <td>0.000000</td>\n",
       "      <td>...</td>\n",
       "      <td>0.000000</td>\n",
       "      <td>0.000000</td>\n",
       "      <td>0.000000</td>\n",
       "      <td>0.520353</td>\n",
       "      <td>0.035587</td>\n",
       "      <td>0.000000</td>\n",
       "      <td>0.045752</td>\n",
       "      <td>0.000000</td>\n",
       "      <td>0.000000</td>\n",
       "      <td>0.000000</td>\n",
       "    </tr>\n",
       "    <tr>\n",
       "      <th>Paul</th>\n",
       "      <td>0.000000</td>\n",
       "      <td>0.000000</td>\n",
       "      <td>0.000000</td>\n",
       "      <td>0.000000</td>\n",
       "      <td>0.000000</td>\n",
       "      <td>0.000000</td>\n",
       "      <td>0.00000</td>\n",
       "      <td>0.000000</td>\n",
       "      <td>0.000000</td>\n",
       "      <td>0.000000</td>\n",
       "      <td>...</td>\n",
       "      <td>0.000000</td>\n",
       "      <td>0.000000</td>\n",
       "      <td>0.000000</td>\n",
       "      <td>0.000000</td>\n",
       "      <td>0.235636</td>\n",
       "      <td>0.000000</td>\n",
       "      <td>0.000000</td>\n",
       "      <td>0.000000</td>\n",
       "      <td>0.000000</td>\n",
       "      <td>0.000000</td>\n",
       "    </tr>\n",
       "    <tr>\n",
       "      <th>Paul</th>\n",
       "      <td>0.000000</td>\n",
       "      <td>0.000000</td>\n",
       "      <td>0.000000</td>\n",
       "      <td>0.238007</td>\n",
       "      <td>0.000000</td>\n",
       "      <td>0.200403</td>\n",
       "      <td>0.00000</td>\n",
       "      <td>0.000000</td>\n",
       "      <td>0.000000</td>\n",
       "      <td>0.000000</td>\n",
       "      <td>...</td>\n",
       "      <td>0.000000</td>\n",
       "      <td>0.000000</td>\n",
       "      <td>0.000000</td>\n",
       "      <td>0.074523</td>\n",
       "      <td>0.331281</td>\n",
       "      <td>0.100202</td>\n",
       "      <td>0.085180</td>\n",
       "      <td>0.000000</td>\n",
       "      <td>0.000000</td>\n",
       "      <td>0.000000</td>\n",
       "    </tr>\n",
       "    <tr>\n",
       "      <th>Paul</th>\n",
       "      <td>0.018632</td>\n",
       "      <td>0.000000</td>\n",
       "      <td>0.000000</td>\n",
       "      <td>0.000000</td>\n",
       "      <td>0.000000</td>\n",
       "      <td>0.000000</td>\n",
       "      <td>0.00000</td>\n",
       "      <td>0.000000</td>\n",
       "      <td>0.000000</td>\n",
       "      <td>0.000000</td>\n",
       "      <td>...</td>\n",
       "      <td>0.652124</td>\n",
       "      <td>0.018632</td>\n",
       "      <td>0.167689</td>\n",
       "      <td>0.000000</td>\n",
       "      <td>0.000000</td>\n",
       "      <td>0.000000</td>\n",
       "      <td>0.000000</td>\n",
       "      <td>0.018632</td>\n",
       "      <td>0.018632</td>\n",
       "      <td>0.018632</td>\n",
       "    </tr>\n",
       "    <tr>\n",
       "      <th>Paul</th>\n",
       "      <td>0.000000</td>\n",
       "      <td>0.000000</td>\n",
       "      <td>0.000000</td>\n",
       "      <td>0.000000</td>\n",
       "      <td>0.389046</td>\n",
       "      <td>0.000000</td>\n",
       "      <td>0.00000</td>\n",
       "      <td>0.000000</td>\n",
       "      <td>0.291785</td>\n",
       "      <td>0.000000</td>\n",
       "      <td>...</td>\n",
       "      <td>0.000000</td>\n",
       "      <td>0.000000</td>\n",
       "      <td>0.000000</td>\n",
       "      <td>0.000000</td>\n",
       "      <td>0.000000</td>\n",
       "      <td>0.000000</td>\n",
       "      <td>0.000000</td>\n",
       "      <td>0.000000</td>\n",
       "      <td>0.000000</td>\n",
       "      <td>0.000000</td>\n",
       "    </tr>\n",
       "    <tr>\n",
       "      <th>Paul</th>\n",
       "      <td>0.000000</td>\n",
       "      <td>0.000000</td>\n",
       "      <td>0.000000</td>\n",
       "      <td>0.000000</td>\n",
       "      <td>0.000000</td>\n",
       "      <td>0.000000</td>\n",
       "      <td>0.00000</td>\n",
       "      <td>0.070961</td>\n",
       "      <td>0.000000</td>\n",
       "      <td>0.000000</td>\n",
       "      <td>...</td>\n",
       "      <td>0.000000</td>\n",
       "      <td>0.000000</td>\n",
       "      <td>0.000000</td>\n",
       "      <td>0.000000</td>\n",
       "      <td>0.046921</td>\n",
       "      <td>0.000000</td>\n",
       "      <td>0.000000</td>\n",
       "      <td>0.000000</td>\n",
       "      <td>0.000000</td>\n",
       "      <td>0.000000</td>\n",
       "    </tr>\n",
       "  </tbody>\n",
       "</table>\n",
       "<p>10 rows × 339 columns</p>\n",
       "</div>"
      ],
      "text/plain": [
       "             ab   achieve    afraid       ain     alice     alive   angles  \\\n",
       "Fritz  0.000000  0.000000  0.000000  0.000000  0.000000  0.000000  0.00000   \n",
       "Fritz  0.000000  0.000000  0.024444  0.051226  0.000000  0.000000  0.00000   \n",
       "Fritz  0.000000  0.000000  0.000000  0.023446  0.000000  0.000000  0.00000   \n",
       "Fritz  0.000000  0.190106  0.000000  0.112889  0.000000  0.000000  0.00000   \n",
       "Fritz  0.000000  0.000000  0.045752  0.031959  0.000000  0.000000  0.05382   \n",
       "Paul   0.000000  0.000000  0.000000  0.000000  0.000000  0.000000  0.00000   \n",
       "Paul   0.000000  0.000000  0.000000  0.238007  0.000000  0.200403  0.00000   \n",
       "Paul   0.018632  0.000000  0.000000  0.000000  0.000000  0.000000  0.00000   \n",
       "Paul   0.000000  0.000000  0.000000  0.000000  0.389046  0.000000  0.00000   \n",
       "Paul   0.000000  0.000000  0.000000  0.000000  0.000000  0.000000  0.00000   \n",
       "\n",
       "         ascend       ask    astray  ...       wir      wird        wo  \\\n",
       "Fritz  0.000000  0.000000  0.000000  ...  0.000000  0.000000  0.000000   \n",
       "Fritz  0.000000  0.000000  0.028755  ...  0.000000  0.000000  0.000000   \n",
       "Fritz  0.000000  0.000000  0.000000  ...  0.000000  0.000000  0.000000   \n",
       "Fritz  0.000000  0.000000  0.000000  ...  0.000000  0.000000  0.000000   \n",
       "Fritz  0.000000  0.000000  0.000000  ...  0.000000  0.000000  0.000000   \n",
       "Paul   0.000000  0.000000  0.000000  ...  0.000000  0.000000  0.000000   \n",
       "Paul   0.000000  0.000000  0.000000  ...  0.000000  0.000000  0.000000   \n",
       "Paul   0.000000  0.000000  0.000000  ...  0.652124  0.018632  0.167689   \n",
       "Paul   0.000000  0.291785  0.000000  ...  0.000000  0.000000  0.000000   \n",
       "Paul   0.070961  0.000000  0.000000  ...  0.000000  0.000000  0.000000   \n",
       "\n",
       "            won     world     worry     wrong      zeig       zum  zusammen  \n",
       "Fritz  0.000000  0.000000  0.000000  0.000000  0.000000  0.000000  0.000000  \n",
       "Fritz  0.021386  0.000000  0.000000  0.000000  0.000000  0.000000  0.000000  \n",
       "Fritz  0.000000  0.000000  0.000000  0.000000  0.000000  0.000000  0.000000  \n",
       "Fritz  0.000000  0.000000  0.000000  0.000000  0.000000  0.000000  0.000000  \n",
       "Fritz  0.520353  0.035587  0.000000  0.045752  0.000000  0.000000  0.000000  \n",
       "Paul   0.000000  0.235636  0.000000  0.000000  0.000000  0.000000  0.000000  \n",
       "Paul   0.074523  0.331281  0.100202  0.085180  0.000000  0.000000  0.000000  \n",
       "Paul   0.000000  0.000000  0.000000  0.000000  0.018632  0.018632  0.018632  \n",
       "Paul   0.000000  0.000000  0.000000  0.000000  0.000000  0.000000  0.000000  \n",
       "Paul   0.000000  0.046921  0.000000  0.000000  0.000000  0.000000  0.000000  \n",
       "\n",
       "[10 rows x 339 columns]"
      ]
     },
     "execution_count": 69,
     "metadata": {},
     "output_type": "execute_result"
    }
   ],
   "source": [
    "pd.DataFrame(tf_X_tran.todense(), columns=cv.get_feature_names_out(),index=y)"
   ]
  },
  {
   "cell_type": "markdown",
   "id": "5e0d971f",
   "metadata": {},
   "source": [
    "### Step 4. Model"
   ]
  },
  {
   "cell_type": "code",
   "execution_count": 70,
   "id": "71a2eff9",
   "metadata": {},
   "outputs": [],
   "source": [
    "lreg= LogisticRegression()"
   ]
  },
  {
   "cell_type": "code",
   "execution_count": 71,
   "id": "421b4470",
   "metadata": {},
   "outputs": [
    {
     "data": {
      "text/plain": [
       "LogisticRegression()"
      ]
     },
     "execution_count": 71,
     "metadata": {},
     "output_type": "execute_result"
    }
   ],
   "source": [
    "lreg.fit(tf_X_tran,y)"
   ]
  },
  {
   "cell_type": "code",
   "execution_count": 72,
   "id": "a89c3eff",
   "metadata": {},
   "outputs": [],
   "source": [
    "lyrics_to_predict = [\"Another day in a different earth\"]"
   ]
  },
  {
   "cell_type": "code",
   "execution_count": 73,
   "id": "dbbb69b4",
   "metadata": {},
   "outputs": [],
   "source": [
    "lyrics_to_predict_tran =  cv.transform(lyrics_to_predict)"
   ]
  },
  {
   "cell_type": "code",
   "execution_count": 74,
   "id": "ba41db79",
   "metadata": {},
   "outputs": [
    {
     "data": {
      "text/plain": [
       "matrix([[0.        , 0.        , 0.        , 0.        , 0.        ,\n",
       "         0.        , 0.        , 0.        , 0.        , 0.        ,\n",
       "         0.        , 0.        , 0.        , 0.        , 0.        ,\n",
       "         0.        , 0.        , 0.        , 0.        , 0.        ,\n",
       "         0.        , 0.        , 0.        , 0.        , 0.        ,\n",
       "         0.        , 0.        , 0.        , 0.        , 0.        ,\n",
       "         0.        , 0.        , 0.        , 0.        , 0.        ,\n",
       "         0.        , 0.        , 0.        , 0.        , 0.        ,\n",
       "         0.        , 0.        , 0.        , 0.        , 0.        ,\n",
       "         0.        , 0.        , 0.        , 0.        , 0.        ,\n",
       "         0.        , 0.        , 0.        , 0.        , 0.        ,\n",
       "         0.        , 0.60604332, 0.        , 0.        , 0.        ,\n",
       "         0.        , 0.        , 0.        , 0.        , 0.60604332,\n",
       "         0.        , 0.        , 0.        , 0.        , 0.        ,\n",
       "         0.        , 0.        , 0.        , 0.        , 0.51519219,\n",
       "         0.        , 0.        , 0.        , 0.        , 0.        ,\n",
       "         0.        , 0.        , 0.        , 0.        , 0.        ,\n",
       "         0.        , 0.        , 0.        , 0.        , 0.        ,\n",
       "         0.        , 0.        , 0.        , 0.        , 0.        ,\n",
       "         0.        , 0.        , 0.        , 0.        , 0.        ,\n",
       "         0.        , 0.        , 0.        , 0.        , 0.        ,\n",
       "         0.        , 0.        , 0.        , 0.        , 0.        ,\n",
       "         0.        , 0.        , 0.        , 0.        , 0.        ,\n",
       "         0.        , 0.        , 0.        , 0.        , 0.        ,\n",
       "         0.        , 0.        , 0.        , 0.        , 0.        ,\n",
       "         0.        , 0.        , 0.        , 0.        , 0.        ,\n",
       "         0.        , 0.        , 0.        , 0.        , 0.        ,\n",
       "         0.        , 0.        , 0.        , 0.        , 0.        ,\n",
       "         0.        , 0.        , 0.        , 0.        , 0.        ,\n",
       "         0.        , 0.        , 0.        , 0.        , 0.        ,\n",
       "         0.        , 0.        , 0.        , 0.        , 0.        ,\n",
       "         0.        , 0.        , 0.        , 0.        , 0.        ,\n",
       "         0.        , 0.        , 0.        , 0.        , 0.        ,\n",
       "         0.        , 0.        , 0.        , 0.        , 0.        ,\n",
       "         0.        , 0.        , 0.        , 0.        , 0.        ,\n",
       "         0.        , 0.        , 0.        , 0.        , 0.        ,\n",
       "         0.        , 0.        , 0.        , 0.        , 0.        ,\n",
       "         0.        , 0.        , 0.        , 0.        , 0.        ,\n",
       "         0.        , 0.        , 0.        , 0.        , 0.        ,\n",
       "         0.        , 0.        , 0.        , 0.        , 0.        ,\n",
       "         0.        , 0.        , 0.        , 0.        , 0.        ,\n",
       "         0.        , 0.        , 0.        , 0.        , 0.        ,\n",
       "         0.        , 0.        , 0.        , 0.        , 0.        ,\n",
       "         0.        , 0.        , 0.        , 0.        , 0.        ,\n",
       "         0.        , 0.        , 0.        , 0.        , 0.        ,\n",
       "         0.        , 0.        , 0.        , 0.        , 0.        ,\n",
       "         0.        , 0.        , 0.        , 0.        , 0.        ,\n",
       "         0.        , 0.        , 0.        , 0.        , 0.        ,\n",
       "         0.        , 0.        , 0.        , 0.        , 0.        ,\n",
       "         0.        , 0.        , 0.        , 0.        , 0.        ,\n",
       "         0.        , 0.        , 0.        , 0.        , 0.        ,\n",
       "         0.        , 0.        , 0.        , 0.        , 0.        ,\n",
       "         0.        , 0.        , 0.        , 0.        , 0.        ,\n",
       "         0.        , 0.        , 0.        , 0.        , 0.        ,\n",
       "         0.        , 0.        , 0.        , 0.        , 0.        ,\n",
       "         0.        , 0.        , 0.        , 0.        , 0.        ,\n",
       "         0.        , 0.        , 0.        , 0.        , 0.        ,\n",
       "         0.        , 0.        , 0.        , 0.        , 0.        ,\n",
       "         0.        , 0.        , 0.        , 0.        , 0.        ,\n",
       "         0.        , 0.        , 0.        , 0.        , 0.        ,\n",
       "         0.        , 0.        , 0.        , 0.        , 0.        ,\n",
       "         0.        , 0.        , 0.        , 0.        , 0.        ,\n",
       "         0.        , 0.        , 0.        , 0.        , 0.        ,\n",
       "         0.        , 0.        , 0.        , 0.        , 0.        ,\n",
       "         0.        , 0.        , 0.        , 0.        , 0.        ,\n",
       "         0.        , 0.        , 0.        , 0.        , 0.        ,\n",
       "         0.        , 0.        , 0.        , 0.        , 0.        ,\n",
       "         0.        , 0.        , 0.        , 0.        ]])"
      ]
     },
     "execution_count": 74,
     "metadata": {},
     "output_type": "execute_result"
    }
   ],
   "source": [
    "tf.transform(lyrics_to_predict_tran).todense()"
   ]
  },
  {
   "cell_type": "code",
   "execution_count": 75,
   "id": "e1f7b3ed",
   "metadata": {},
   "outputs": [
    {
     "data": {
      "text/plain": [
       "(1, 339)"
      ]
     },
     "execution_count": 75,
     "metadata": {},
     "output_type": "execute_result"
    }
   ],
   "source": [
    "X_pred_trans = tf.transform(lyrics_to_predict_tran)\n",
    "X_pred_trans.shape"
   ]
  },
  {
   "cell_type": "code",
   "execution_count": 76,
   "id": "212eebbf",
   "metadata": {},
   "outputs": [
    {
     "data": {
      "text/plain": [
       "array(['Fritz'], dtype=object)"
      ]
     },
     "execution_count": 76,
     "metadata": {},
     "output_type": "execute_result"
    }
   ],
   "source": [
    "lreg.predict(X_pred_trans)"
   ]
  }
 ],
 "metadata": {
  "kernelspec": {
   "display_name": "Python 3 (ipykernel)",
   "language": "python",
   "name": "python3"
  },
  "language_info": {
   "codemirror_mode": {
    "name": "ipython",
    "version": 3
   },
   "file_extension": ".py",
   "mimetype": "text/x-python",
   "name": "python",
   "nbconvert_exporter": "python",
   "pygments_lexer": "ipython3",
   "version": "3.9.16"
  }
 },
 "nbformat": 4,
 "nbformat_minor": 5
}
